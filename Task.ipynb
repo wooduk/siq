{
 "cells": [
  {
   "cell_type": "code",
   "execution_count": 45,
   "id": "c4200e30-72b1-4352-86d3-a9e36bd08c45",
   "metadata": {},
   "outputs": [
    {
     "name": "stdout",
     "output_type": "stream",
     "text": [
      "['Solarize_Light2', '_classic_test_patch', '_mpl-gallery', '_mpl-gallery-nogrid', 'bmh', 'classic', 'dark_background', 'fast', 'fivethirtyeight', 'ggplot', 'grayscale', 'seaborn', 'seaborn-bright', 'seaborn-colorblind', 'seaborn-dark', 'seaborn-dark-palette', 'seaborn-darkgrid', 'seaborn-deep', 'seaborn-muted', 'seaborn-notebook', 'seaborn-paper', 'seaborn-pastel', 'seaborn-poster', 'seaborn-talk', 'seaborn-ticks', 'seaborn-white', 'seaborn-whitegrid', 'tableau-colorblind10']\n"
     ]
    }
   ],
   "source": [
    "import pandas as pd\n",
    "import matplotlib.pyplot as plt\n",
    "\n",
    "print([style for style in plt.style.available])\n",
    "plt.style.use('seaborn-white')\n"
   ]
  },
  {
   "cell_type": "markdown",
   "id": "1e3e695f-306a-42f4-aa18-df01b182b4f9",
   "metadata": {},
   "source": [
    "# Block A: Data cleaning & merging"
   ]
  },
  {
   "cell_type": "markdown",
   "id": "2e99bd35-f8e4-44b1-b273-0df4faf4cc02",
   "metadata": {},
   "source": [
    "### Users - EDA"
   ]
  },
  {
   "cell_type": "code",
   "execution_count": 2,
   "id": "13743627-7af7-4e0e-9275-160eefdcafcf",
   "metadata": {},
   "outputs": [],
   "source": [
    "users_df=pd.read_csv(\"SIQ_data_test/users.csv\")"
   ]
  },
  {
   "cell_type": "code",
   "execution_count": 3,
   "id": "f68737bd-c373-41cf-b8af-e7fe84cb5381",
   "metadata": {},
   "outputs": [
    {
     "name": "stdout",
     "output_type": "stream",
     "text": [
      "(5807, 5)\n"
     ]
    },
    {
     "data": {
      "text/html": [
       "<div>\n",
       "<style scoped>\n",
       "    .dataframe tbody tr th:only-of-type {\n",
       "        vertical-align: middle;\n",
       "    }\n",
       "\n",
       "    .dataframe tbody tr th {\n",
       "        vertical-align: top;\n",
       "    }\n",
       "\n",
       "    .dataframe thead th {\n",
       "        text-align: right;\n",
       "    }\n",
       "</style>\n",
       "<table border=\"1\" class=\"dataframe\">\n",
       "  <thead>\n",
       "    <tr style=\"text-align: right;\">\n",
       "      <th></th>\n",
       "      <th>UserId</th>\n",
       "      <th>Country</th>\n",
       "      <th>DOB</th>\n",
       "      <th>Gender</th>\n",
       "      <th>RegDate</th>\n",
       "    </tr>\n",
       "  </thead>\n",
       "  <tbody>\n",
       "    <tr>\n",
       "      <th>0</th>\n",
       "      <td>1326865</td>\n",
       "      <td>DE</td>\n",
       "      <td>1988-05-04</td>\n",
       "      <td>M</td>\n",
       "      <td>2016-03-24</td>\n",
       "    </tr>\n",
       "    <tr>\n",
       "      <th>1</th>\n",
       "      <td>1333278</td>\n",
       "      <td>GB</td>\n",
       "      <td>1971-07-21</td>\n",
       "      <td>M</td>\n",
       "      <td>2016-02-09</td>\n",
       "    </tr>\n",
       "    <tr>\n",
       "      <th>2</th>\n",
       "      <td>1336967</td>\n",
       "      <td>GB</td>\n",
       "      <td>1983-07-31</td>\n",
       "      <td>M</td>\n",
       "      <td>2016-01-29</td>\n",
       "    </tr>\n",
       "    <tr>\n",
       "      <th>3</th>\n",
       "      <td>1339784</td>\n",
       "      <td>Other</td>\n",
       "      <td>1976-09-21</td>\n",
       "      <td>M</td>\n",
       "      <td>2016-01-21</td>\n",
       "    </tr>\n",
       "    <tr>\n",
       "      <th>4</th>\n",
       "      <td>1339829</td>\n",
       "      <td>Other</td>\n",
       "      <td>1981-05-03</td>\n",
       "      <td>F</td>\n",
       "      <td>2016-04-12</td>\n",
       "    </tr>\n",
       "  </tbody>\n",
       "</table>\n",
       "</div>"
      ],
      "text/plain": [
       "    UserId Country         DOB Gender     RegDate\n",
       "0  1326865      DE  1988-05-04      M  2016-03-24\n",
       "1  1333278      GB  1971-07-21      M  2016-02-09\n",
       "2  1336967      GB  1983-07-31      M  2016-01-29\n",
       "3  1339784   Other  1976-09-21      M  2016-01-21\n",
       "4  1339829   Other  1981-05-03      F  2016-04-12"
      ]
     },
     "execution_count": 3,
     "metadata": {},
     "output_type": "execute_result"
    }
   ],
   "source": [
    "print(users_df.shape)\n",
    "users_df.head()"
   ]
  },
  {
   "cell_type": "markdown",
   "id": "c51c80e2-c025-44c9-91c1-1a9237d99a5f",
   "metadata": {},
   "source": [
    "Reload with setting some types"
   ]
  },
  {
   "cell_type": "code",
   "execution_count": 4,
   "id": "df4455f2-4c5b-4152-ae86-1727ab6c15a4",
   "metadata": {},
   "outputs": [],
   "source": [
    "users_df=pd.read_csv(\"SIQ_data_test/users.csv\", dtype={'UserId':str, 'Country':str, 'Gender':str}, parse_dates=['DOB','RegDate'])"
   ]
  },
  {
   "cell_type": "markdown",
   "id": "de41fab4-99ee-44e2-843f-d734dd57534d",
   "metadata": {},
   "source": [
    "Sometimes opt for using profiling tools for initial look at data. In this case just look manually at the columns."
   ]
  },
  {
   "cell_type": "markdown",
   "id": "76a27931-489a-40ce-b611-de95491a7166",
   "metadata": {},
   "source": [
    "#### User Id"
   ]
  },
  {
   "cell_type": "code",
   "execution_count": 5,
   "id": "4eef8ec6-ecd0-4552-a9dc-83edd58330d2",
   "metadata": {},
   "outputs": [
    {
     "name": "stdout",
     "output_type": "stream",
     "text": [
      "0 missing values for UserId\n",
      "5,807 unique values for UserId\n",
      "0 duplicate values for UserId\n"
     ]
    }
   ],
   "source": [
    "print( f\"{users_df.UserId.isna().sum():,} missing values for UserId\")\n",
    "print( f\"{users_df.UserId.nunique():,} unique values for UserId\")\n",
    "print( f\"{users_df.UserId.duplicated().sum():,} duplicate values for UserId\")"
   ]
  },
  {
   "cell_type": "markdown",
   "id": "53d9015b-d434-42ff-a07e-4395b8617451",
   "metadata": {},
   "source": [
    "#### Country"
   ]
  },
  {
   "cell_type": "code",
   "execution_count": 6,
   "id": "b3d2a4d8-1000-4f6f-abeb-93eef10db426",
   "metadata": {},
   "outputs": [
    {
     "name": "stdout",
     "output_type": "stream",
     "text": [
      "0 missing values for Country\n",
      "5 unique values for Country\n"
     ]
    }
   ],
   "source": [
    "print( f\"{users_df.Country.isna().sum():,} missing values for Country\")\n",
    "print( f\"{users_df.Country.nunique():,} unique values for Country\")"
   ]
  },
  {
   "cell_type": "code",
   "execution_count": 7,
   "id": "fb2662ff-61b3-43a7-8e27-fb8fcfa65d80",
   "metadata": {},
   "outputs": [
    {
     "data": {
      "text/plain": [
       "GB       2489\n",
       "US       1017\n",
       "DE        945\n",
       "Other     889\n",
       "FR        467\n",
       "Name: Country, dtype: int64"
      ]
     },
     "metadata": {},
     "output_type": "display_data"
    }
   ],
   "source": [
    "display(users_df.Country.value_counts(dropna=False))"
   ]
  },
  {
   "cell_type": "markdown",
   "id": "6673efd6-ca07-402d-b7d7-368b9818b789",
   "metadata": {},
   "source": [
    "#### Gender"
   ]
  },
  {
   "cell_type": "code",
   "execution_count": 8,
   "id": "50b17585-874e-4cc9-bc4f-72530c537f05",
   "metadata": {},
   "outputs": [
    {
     "name": "stdout",
     "output_type": "stream",
     "text": [
      "0 missing values for Gender\n",
      "3 unique values for Gender\n"
     ]
    }
   ],
   "source": [
    "print( f\"{users_df.Gender.isna().sum():,} missing values for Gender\")\n",
    "print( f\"{users_df.Gender.nunique():,} unique values for Gender\")"
   ]
  },
  {
   "cell_type": "code",
   "execution_count": 9,
   "id": "a788dd50-358e-4800-b8a4-016c828772dd",
   "metadata": {},
   "outputs": [
    {
     "data": {
      "text/plain": [
       "M    2909\n",
       "     1481\n",
       "F    1417\n",
       "Name: Gender, dtype: int64"
      ]
     },
     "metadata": {},
     "output_type": "display_data"
    }
   ],
   "source": [
    "display(users_df.Gender.value_counts(dropna=False))"
   ]
  },
  {
   "cell_type": "code",
   "execution_count": 10,
   "id": "9b05e202-6248-4851-9f89-d78fc7c71b75",
   "metadata": {},
   "outputs": [
    {
     "name": "stdout",
     "output_type": "stream",
     "text": [
      "1,481 rows are missing Gender value.\n"
     ]
    }
   ],
   "source": [
    "print(f\"{(users_df.Gender==' ').sum():,} rows are missing Gender value.\")"
   ]
  },
  {
   "cell_type": "markdown",
   "id": "089c8c37-0a9c-491b-baed-2168c842a4ab",
   "metadata": {
    "tags": []
   },
   "source": [
    "## Question 1"
   ]
  },
  {
   "cell_type": "markdown",
   "id": "796d39b1-a492-4424-9c6b-3a1d1564957b",
   "metadata": {},
   "source": [
    "Please load the users and activity tables into Python.\n",
    " - a.\tHow many variables are in the datasets?\n",
    "      - There are 5 variables in this data set. `UserId`, `Country`, `DOB`, `Gender`, and `RegDate`\n",
    " - b.\tHow many observations are in the datasets?\n",
    "      - There are 5,807 observations in this data set. \n"
   ]
  },
  {
   "cell_type": "markdown",
   "id": "9808f175-725f-4a98-945d-3fa70fdefc0d",
   "metadata": {
    "tags": []
   },
   "source": [
    "## Question 2"
   ]
  },
  {
   "cell_type": "markdown",
   "id": "4484c3bc-fa84-427d-a5fd-a864a7cb3291",
   "metadata": {},
   "source": [
    "As there are no duplicate UserIds in the dataset, assume that 1 row = 1 user.\n",
    "\n",
    "* a: There are 2,909 Male users in the dataset.\n",
    "* b: There are 1,417 Female users in the dataset.\n",
    "* c: There are 1,481 users missing a value in the dataset."
   ]
  },
  {
   "cell_type": "markdown",
   "id": "47fe5910-9fbb-4f3a-9428-870da8482cd2",
   "metadata": {},
   "source": [
    "Assume all missing / ' ' values are M. Correct the column for future analysis."
   ]
  },
  {
   "cell_type": "code",
   "execution_count": 11,
   "id": "f484cda0-8737-4b7e-b1ca-124c3a32cc93",
   "metadata": {
    "tags": []
   },
   "outputs": [
    {
     "data": {
      "text/plain": [
       "M    4390\n",
       "F    1417\n",
       "Name: Gender_corrected, dtype: int64"
      ]
     },
     "execution_count": 11,
     "metadata": {},
     "output_type": "execute_result"
    }
   ],
   "source": [
    "users_df['Gender_corrected'] = users_df.Gender.apply(lambda s: 'M' if s == ' ' else s)\n",
    "users_df.Gender_corrected.value_counts()"
   ]
  },
  {
   "cell_type": "markdown",
   "id": "5ffbbae3-cefa-4a07-921b-dbe459f0a2bb",
   "metadata": {},
   "source": [
    "#### RegDate"
   ]
  },
  {
   "cell_type": "code",
   "execution_count": 12,
   "id": "a3ddc37d-f92d-418c-80be-74e9017ea3b9",
   "metadata": {},
   "outputs": [
    {
     "name": "stdout",
     "output_type": "stream",
     "text": [
      "Red Date (Min - Max): 2015-11-26 00:00:00 2017-05-10 00:00:00\n"
     ]
    }
   ],
   "source": [
    "print(\"Red Date (Min - Max):\", users_df.RegDate.min(),users_df.RegDate.max())"
   ]
  },
  {
   "cell_type": "code",
   "execution_count": 13,
   "id": "ea4d3b60-ffda-4c39-8fef-791cd4f02c73",
   "metadata": {},
   "outputs": [
    {
     "data": {
      "text/plain": [
       "<AxesSubplot:title={'center':'Histogram of RegDate values by Year'}, xlabel='RegDate'>"
      ]
     },
     "execution_count": 13,
     "metadata": {},
     "output_type": "execute_result"
    },
    {
     "data": {
      "image/png": "[encoded data removed]",
      "text/plain": [
       "<Figure size 1296x432 with 1 Axes>"
      ]
     },
     "metadata": {
      "needs_background": "light"
     },
     "output_type": "display_data"
    }
   ],
   "source": [
    "users_df.groupby(pd.Grouper(key='RegDate', freq='W')).size().plot.bar(figsize=(18,6), title='Histogram of RegDate values by Year')"
   ]
  },
  {
   "cell_type": "markdown",
   "id": "6b3d8484-8215-46e8-9df6-199b34e8ede2",
   "metadata": {},
   "source": [
    "Bulk of RegDate in period 2016-10-02 to 2017-05-07. "
   ]
  },
  {
   "cell_type": "markdown",
   "id": "8cbd6340-6054-41c2-96c3-c8d98fcd798b",
   "metadata": {},
   "source": [
    "#### DOB"
   ]
  },
  {
   "cell_type": "code",
   "execution_count": 14,
   "id": "74847bd3-0a0e-4039-9d4b-c7ba77335b16",
   "metadata": {},
   "outputs": [
    {
     "name": "stdout",
     "output_type": "stream",
     "text": [
      "Red Date (Min - Max): 1900-08-05 00:00:00 1999-01-23 00:00:00\n"
     ]
    }
   ],
   "source": [
    "print(\"Red Date (Min - Max):\", users_df.DOB.min(),users_df.DOB.max())\n"
   ]
  },
  {
   "cell_type": "code",
   "execution_count": 15,
   "id": "e0a3cb1a-879e-4c94-8c8b-361106410e32",
   "metadata": {},
   "outputs": [
    {
     "data": {
      "image/png": "[encoded data removed]",
      "text/plain": [
       "<Figure size 1296x432 with 1 Axes>"
      ]
     },
     "metadata": {
      "needs_background": "light"
     },
     "output_type": "display_data"
    }
   ],
   "source": [
    "dob_by_year = users_df.groupby(pd.Grouper(key='DOB', freq='Y')).size().rename('count')\n",
    "dob_by_year.index = dob_by_year.index.year\n",
    "dob_by_year.sort_index().plot.bar(figsize=(18,6),title='Histogram of DOB values by Year');\n"
   ]
  },
  {
   "cell_type": "markdown",
   "id": "6c428b50-a36a-4478-a675-987adba8a3cf",
   "metadata": {},
   "source": [
    "### Activities"
   ]
  },
  {
   "cell_type": "code",
   "execution_count": 16,
   "id": "9f5faf6f-52f6-4eda-8d17-b21e633c65f6",
   "metadata": {},
   "outputs": [
    {
     "name": "stdout",
     "output_type": "stream",
     "text": [
      "(22642, 3)\n"
     ]
    },
    {
     "data": {
      "text/html": [
       "<div>\n",
       "<style scoped>\n",
       "    .dataframe tbody tr th:only-of-type {\n",
       "        vertical-align: middle;\n",
       "    }\n",
       "\n",
       "    .dataframe tbody tr th {\n",
       "        vertical-align: top;\n",
       "    }\n",
       "\n",
       "    .dataframe thead th {\n",
       "        text-align: right;\n",
       "    }\n",
       "</style>\n",
       "<table border=\"1\" class=\"dataframe\">\n",
       "  <thead>\n",
       "    <tr style=\"text-align: right;\">\n",
       "      <th></th>\n",
       "      <th>UserId</th>\n",
       "      <th>Date</th>\n",
       "      <th>Revenue</th>\n",
       "    </tr>\n",
       "  </thead>\n",
       "  <tbody>\n",
       "    <tr>\n",
       "      <th>0</th>\n",
       "      <td>1326865</td>\n",
       "      <td>2017-02-19</td>\n",
       "      <td>17.05</td>\n",
       "    </tr>\n",
       "    <tr>\n",
       "      <th>1</th>\n",
       "      <td>1326865</td>\n",
       "      <td>2017-02-28</td>\n",
       "      <td>17.05</td>\n",
       "    </tr>\n",
       "    <tr>\n",
       "      <th>2</th>\n",
       "      <td>1326865</td>\n",
       "      <td>2017-03-06</td>\n",
       "      <td>17.16</td>\n",
       "    </tr>\n",
       "    <tr>\n",
       "      <th>3</th>\n",
       "      <td>1326865</td>\n",
       "      <td>2017-03-07</td>\n",
       "      <td>17.16</td>\n",
       "    </tr>\n",
       "    <tr>\n",
       "      <th>4</th>\n",
       "      <td>1326865</td>\n",
       "      <td>2017-03-08</td>\n",
       "      <td>17.16</td>\n",
       "    </tr>\n",
       "  </tbody>\n",
       "</table>\n",
       "</div>"
      ],
      "text/plain": [
       "    UserId        Date  Revenue\n",
       "0  1326865  2017-02-19    17.05\n",
       "1  1326865  2017-02-28    17.05\n",
       "2  1326865  2017-03-06    17.16\n",
       "3  1326865  2017-03-07    17.16\n",
       "4  1326865  2017-03-08    17.16"
      ]
     },
     "execution_count": 16,
     "metadata": {},
     "output_type": "execute_result"
    }
   ],
   "source": [
    "activ_df=pd.read_csv(\"SIQ_data_test/activities.csv\")\n",
    "print(activ_df.shape)\n",
    "activ_df.head()"
   ]
  },
  {
   "cell_type": "markdown",
   "id": "847bfedb-9323-40a1-8c5e-352036a7de10",
   "metadata": {},
   "source": [
    "Reload with setting some types"
   ]
  },
  {
   "cell_type": "code",
   "execution_count": 17,
   "id": "ccfe4f48-f402-4f33-9f72-8576117b65d8",
   "metadata": {},
   "outputs": [],
   "source": [
    "activ_df=pd.read_csv(\"SIQ_data_test/activities.csv\", dtype={'UserId':str, 'Revenue':float}, parse_dates=['Date'])"
   ]
  },
  {
   "cell_type": "markdown",
   "id": "84086be5-7523-4874-b36f-6adc32d126ac",
   "metadata": {},
   "source": [
    "#### UserId"
   ]
  },
  {
   "cell_type": "code",
   "execution_count": 18,
   "id": "ecabdd31-94a3-451f-926e-c0985c5729ee",
   "metadata": {},
   "outputs": [
    {
     "name": "stdout",
     "output_type": "stream",
     "text": [
      "0 missing values for UserId\n",
      "5,797 unique values for UserId\n",
      "16,845 duplicate values for UserId\n"
     ]
    }
   ],
   "source": [
    "print( f\"{activ_df.UserId.isna().sum():,} missing values for UserId\")\n",
    "print( f\"{activ_df.UserId.nunique():,} unique values for UserId\")\n",
    "print( f\"{activ_df.UserId.duplicated().sum():,} duplicate values for UserId\")"
   ]
  },
  {
   "cell_type": "markdown",
   "id": "f2edcfc2-6ab9-43c1-bd04-084a22e85423",
   "metadata": {},
   "source": [
    "So mulitple activities per user."
   ]
  },
  {
   "cell_type": "markdown",
   "id": "10ef4701-b178-4e7a-9ccc-b19248715122",
   "metadata": {},
   "source": [
    "Cross check how many UserIds match UserIds in User data."
   ]
  },
  {
   "cell_type": "code",
   "execution_count": 19,
   "id": "37a904d1-a6b6-41e1-8bc0-324163209283",
   "metadata": {},
   "outputs": [
    {
     "name": "stdout",
     "output_type": "stream",
     "text": [
      "5,797 UserId in both Users and Activities.\n",
      "10 UserId in Users but not Activities.\n",
      "0 UserId in Activities but not Users.\n"
     ]
    }
   ],
   "source": [
    "print(f\"{len(set(users_df.UserId) & set(activ_df.UserId)):,} UserId in both Users and Activities.\")\n",
    "print(f\"{len(set(users_df.UserId) - set(activ_df.UserId)):,} UserId in Users but not Activities.\")\n",
    "print(f\"{len(set(activ_df.UserId) - set(users_df.UserId)):,} UserId in Activities but not Users.\")\n"
   ]
  },
  {
   "cell_type": "markdown",
   "id": "450e8024-1a7a-4b98-8e2c-e5b95f5ae30b",
   "metadata": {},
   "source": [
    "So 10 users have no activities, be prepared in joining."
   ]
  },
  {
   "cell_type": "markdown",
   "id": "f5d89ac9-3c5c-44cd-b689-1b26b671f85c",
   "metadata": {
    "tags": []
   },
   "source": [
    "#### Date"
   ]
  },
  {
   "cell_type": "code",
   "execution_count": 20,
   "id": "14e841fd-4ce6-4b27-9eca-06329be7192f",
   "metadata": {},
   "outputs": [
    {
     "name": "stdout",
     "output_type": "stream",
     "text": [
      "Red Date (Min - Max): 2016-09-24 00:00:00 2017-10-01 00:00:00\n"
     ]
    }
   ],
   "source": [
    "print(\"Red Date (Min - Max):\", activ_df.Date.min(),activ_df.Date.max())\n"
   ]
  },
  {
   "cell_type": "code",
   "execution_count": 21,
   "id": "b8d9f808-29c3-4daf-8e1b-fe5eac6ee166",
   "metadata": {},
   "outputs": [
    {
     "data": {
      "image/png": "[encoded data removed]",
      "text/plain": [
       "<Figure size 1296x432 with 1 Axes>"
      ]
     },
     "metadata": {
      "needs_background": "light"
     },
     "output_type": "display_data"
    }
   ],
   "source": [
    "date_by_week = activ_df.groupby(pd.Grouper(key='Date', freq='W')).size().rename('count')\n",
    "date_by_week.sort_index().plot.bar(figsize=(18,6),title='Histogram of Date values by Week');\n"
   ]
  },
  {
   "cell_type": "markdown",
   "id": "7adda5f8-6852-4bb4-9018-c4e0044e8d38",
   "metadata": {
    "tags": []
   },
   "source": [
    "#### Revenue"
   ]
  },
  {
   "cell_type": "code",
   "execution_count": 22,
   "id": "3b540c6f-5841-4faa-9a00-2916472bd6b4",
   "metadata": {},
   "outputs": [
    {
     "name": "stdout",
     "output_type": "stream",
     "text": [
      "0 missing values for Revenue\n",
      "Mean value = 131.3, Max = 19000.0, Min = 11.0\n",
      "Median value = 40.0\n"
     ]
    }
   ],
   "source": [
    "print( f\"{activ_df.Revenue.isna().sum():,} missing values for Revenue\")\n",
    "print( f\"Mean value = {activ_df.Revenue.mean():.1f}, Max = {activ_df.Revenue.max():.1f}, Min = {activ_df.Revenue.min():.1f}\")\n",
    "print( f\"Median value = {activ_df.Revenue.median():.1f}\")"
   ]
  },
  {
   "cell_type": "code",
   "execution_count": 23,
   "id": "7095ac0f-9c60-4c13-b2d6-f4a02f1af2aa",
   "metadata": {},
   "outputs": [
    {
     "data": {
      "text/plain": [
       "Text(0, 0.5, 'Count')"
      ]
     },
     "execution_count": 23,
     "metadata": {},
     "output_type": "execute_result"
    },
    {
     "data": {
      "image/png": "[encoded data removed]",
      "text/plain": [
       "<Figure size 1296x432 with 2 Axes>"
      ]
     },
     "metadata": {
      "needs_background": "light"
     },
     "output_type": "display_data"
    }
   ],
   "source": [
    "fig,ax = plt.subplots(1,2,figsize=(18,6))\n",
    "activ_df.Revenue.hist(bins=100,ax=ax[0]); ax[0].set_xlabel('Revenue'); ax[0].set_ylabel('Count')\n",
    "activ_df.Revenue.hist(bins=range(0,500,10),ax=ax[1]); ax[1].set_xlabel('Revenue'); ax[0].set_ylabel('Count')"
   ]
  },
  {
   "cell_type": "markdown",
   "id": "a8bd3567-6d50-46ce-9add-312d86b96a7b",
   "metadata": {},
   "source": [
    "Looks like the value if 19000 is an outlier, most values < 500. Have a look at that distribution."
   ]
  },
  {
   "cell_type": "code",
   "execution_count": 24,
   "id": "cff33213-38be-408e-a919-8b1c77a86d6b",
   "metadata": {},
   "outputs": [
    {
     "data": {
      "text/plain": [
       "0.25     20.000\n",
       "0.50     40.000\n",
       "0.75    100.000\n",
       "0.95    469.834\n",
       "Name: Revenue, dtype: float64"
      ]
     },
     "metadata": {},
     "output_type": "display_data"
    }
   ],
   "source": [
    "display(activ_df.Revenue.quantile([0.25,0.5,0.75,0.95]))"
   ]
  },
  {
   "cell_type": "code",
   "execution_count": 25,
   "id": "4e359821-9deb-4c0a-946a-fce621b9f6a8",
   "metadata": {},
   "outputs": [
    {
     "data": {
      "text/plain": [
       "(0, 500]          21666\n",
       "(500, 1000]         602\n",
       "(1000, 10000]       364\n",
       "(10000, 20000]       10\n",
       "Name: Revenue, dtype: int64"
      ]
     },
     "metadata": {},
     "output_type": "display_data"
    }
   ],
   "source": [
    "display(pd.cut(activ_df.Revenue, bins=[0,500,1000,10000,20000]).value_counts())"
   ]
  },
  {
   "cell_type": "markdown",
   "id": "67106866-79a8-4cf4-b542-8f6a797ff2b0",
   "metadata": {},
   "source": [
    "## Question 3"
   ]
  },
  {
   "cell_type": "markdown",
   "id": "a82ec9ea-065d-4cfa-99fe-ac41775d5cf6",
   "metadata": {},
   "source": [
    "Merge the two datasets and calculate the days since registration for each activity. What is the total mean and median revenue generated per user (ie across all activities)? How do you interpret the result?"
   ]
  },
  {
   "cell_type": "code",
   "execution_count": 26,
   "id": "9466482e-9b72-4347-9f92-a22ba9faa7fe",
   "metadata": {},
   "outputs": [
    {
     "name": "stdout",
     "output_type": "stream",
     "text": [
      "(22642, 8)\n"
     ]
    },
    {
     "data": {
      "text/html": [
       "<div>\n",
       "<style scoped>\n",
       "    .dataframe tbody tr th:only-of-type {\n",
       "        vertical-align: middle;\n",
       "    }\n",
       "\n",
       "    .dataframe tbody tr th {\n",
       "        vertical-align: top;\n",
       "    }\n",
       "\n",
       "    .dataframe thead th {\n",
       "        text-align: right;\n",
       "    }\n",
       "</style>\n",
       "<table border=\"1\" class=\"dataframe\">\n",
       "  <thead>\n",
       "    <tr style=\"text-align: right;\">\n",
       "      <th></th>\n",
       "      <th>UserId</th>\n",
       "      <th>Date</th>\n",
       "      <th>Revenue</th>\n",
       "      <th>Country</th>\n",
       "      <th>DOB</th>\n",
       "      <th>Gender</th>\n",
       "      <th>RegDate</th>\n",
       "      <th>Gender_corrected</th>\n",
       "    </tr>\n",
       "  </thead>\n",
       "  <tbody>\n",
       "    <tr>\n",
       "      <th>0</th>\n",
       "      <td>1326865</td>\n",
       "      <td>2017-02-19</td>\n",
       "      <td>17.05</td>\n",
       "      <td>DE</td>\n",
       "      <td>1988-05-04</td>\n",
       "      <td>M</td>\n",
       "      <td>2016-03-24</td>\n",
       "      <td>M</td>\n",
       "    </tr>\n",
       "    <tr>\n",
       "      <th>1</th>\n",
       "      <td>1326865</td>\n",
       "      <td>2017-02-28</td>\n",
       "      <td>17.05</td>\n",
       "      <td>DE</td>\n",
       "      <td>1988-05-04</td>\n",
       "      <td>M</td>\n",
       "      <td>2016-03-24</td>\n",
       "      <td>M</td>\n",
       "    </tr>\n",
       "    <tr>\n",
       "      <th>2</th>\n",
       "      <td>1326865</td>\n",
       "      <td>2017-03-06</td>\n",
       "      <td>17.16</td>\n",
       "      <td>DE</td>\n",
       "      <td>1988-05-04</td>\n",
       "      <td>M</td>\n",
       "      <td>2016-03-24</td>\n",
       "      <td>M</td>\n",
       "    </tr>\n",
       "    <tr>\n",
       "      <th>3</th>\n",
       "      <td>1326865</td>\n",
       "      <td>2017-03-07</td>\n",
       "      <td>17.16</td>\n",
       "      <td>DE</td>\n",
       "      <td>1988-05-04</td>\n",
       "      <td>M</td>\n",
       "      <td>2016-03-24</td>\n",
       "      <td>M</td>\n",
       "    </tr>\n",
       "    <tr>\n",
       "      <th>4</th>\n",
       "      <td>1326865</td>\n",
       "      <td>2017-03-08</td>\n",
       "      <td>17.16</td>\n",
       "      <td>DE</td>\n",
       "      <td>1988-05-04</td>\n",
       "      <td>M</td>\n",
       "      <td>2016-03-24</td>\n",
       "      <td>M</td>\n",
       "    </tr>\n",
       "  </tbody>\n",
       "</table>\n",
       "</div>"
      ],
      "text/plain": [
       "    UserId       Date  Revenue Country        DOB Gender    RegDate  \\\n",
       "0  1326865 2017-02-19    17.05      DE 1988-05-04      M 2016-03-24   \n",
       "1  1326865 2017-02-28    17.05      DE 1988-05-04      M 2016-03-24   \n",
       "2  1326865 2017-03-06    17.16      DE 1988-05-04      M 2016-03-24   \n",
       "3  1326865 2017-03-07    17.16      DE 1988-05-04      M 2016-03-24   \n",
       "4  1326865 2017-03-08    17.16      DE 1988-05-04      M 2016-03-24   \n",
       "\n",
       "  Gender_corrected  \n",
       "0                M  \n",
       "1                M  \n",
       "2                M  \n",
       "3                M  \n",
       "4                M  "
      ]
     },
     "execution_count": 26,
     "metadata": {},
     "output_type": "execute_result"
    }
   ],
   "source": [
    "df = activ_df.merge(users_df, on='UserId', how='left')\n",
    "print(df.shape)\n",
    "df.head()"
   ]
  },
  {
   "cell_type": "code",
   "execution_count": 27,
   "id": "77181c81-68cc-4d53-909e-e2d55ddb2479",
   "metadata": {},
   "outputs": [
    {
     "data": {
      "text/html": [
       "<div>\n",
       "<style scoped>\n",
       "    .dataframe tbody tr th:only-of-type {\n",
       "        vertical-align: middle;\n",
       "    }\n",
       "\n",
       "    .dataframe tbody tr th {\n",
       "        vertical-align: top;\n",
       "    }\n",
       "\n",
       "    .dataframe thead th {\n",
       "        text-align: right;\n",
       "    }\n",
       "</style>\n",
       "<table border=\"1\" class=\"dataframe\">\n",
       "  <thead>\n",
       "    <tr style=\"text-align: right;\">\n",
       "      <th></th>\n",
       "      <th>UserId</th>\n",
       "      <th>Date</th>\n",
       "      <th>Revenue</th>\n",
       "      <th>Country</th>\n",
       "      <th>DOB</th>\n",
       "      <th>Gender</th>\n",
       "      <th>RegDate</th>\n",
       "      <th>Gender_corrected</th>\n",
       "      <th>days_since_reg</th>\n",
       "    </tr>\n",
       "  </thead>\n",
       "  <tbody>\n",
       "    <tr>\n",
       "      <th>18701</th>\n",
       "      <td>3308245</td>\n",
       "      <td>2017-02-22</td>\n",
       "      <td>100.00</td>\n",
       "      <td>GB</td>\n",
       "      <td>1959-09-24</td>\n",
       "      <td>M</td>\n",
       "      <td>2017-02-16</td>\n",
       "      <td>M</td>\n",
       "      <td>6</td>\n",
       "    </tr>\n",
       "    <tr>\n",
       "      <th>6208</th>\n",
       "      <td>3170523</td>\n",
       "      <td>2017-02-01</td>\n",
       "      <td>300.00</td>\n",
       "      <td>GB</td>\n",
       "      <td>1966-07-06</td>\n",
       "      <td></td>\n",
       "      <td>2017-01-11</td>\n",
       "      <td>M</td>\n",
       "      <td>21</td>\n",
       "    </tr>\n",
       "    <tr>\n",
       "      <th>15789</th>\n",
       "      <td>3270149</td>\n",
       "      <td>2017-07-13</td>\n",
       "      <td>40.00</td>\n",
       "      <td>GB</td>\n",
       "      <td>1983-05-27</td>\n",
       "      <td>F</td>\n",
       "      <td>2017-01-09</td>\n",
       "      <td>F</td>\n",
       "      <td>185</td>\n",
       "    </tr>\n",
       "    <tr>\n",
       "      <th>13545</th>\n",
       "      <td>3243608</td>\n",
       "      <td>2017-04-05</td>\n",
       "      <td>17.82</td>\n",
       "      <td>DE</td>\n",
       "      <td>1966-08-14</td>\n",
       "      <td>F</td>\n",
       "      <td>2017-03-24</td>\n",
       "      <td>F</td>\n",
       "      <td>12</td>\n",
       "    </tr>\n",
       "    <tr>\n",
       "      <th>15257</th>\n",
       "      <td>3262572</td>\n",
       "      <td>2017-08-15</td>\n",
       "      <td>20.00</td>\n",
       "      <td>GB</td>\n",
       "      <td>1981-03-11</td>\n",
       "      <td>M</td>\n",
       "      <td>2016-10-21</td>\n",
       "      <td>M</td>\n",
       "      <td>298</td>\n",
       "    </tr>\n",
       "    <tr>\n",
       "      <th>2955</th>\n",
       "      <td>3147998</td>\n",
       "      <td>2017-03-04</td>\n",
       "      <td>75.00</td>\n",
       "      <td>GB</td>\n",
       "      <td>1960-06-30</td>\n",
       "      <td>M</td>\n",
       "      <td>2017-01-24</td>\n",
       "      <td>M</td>\n",
       "      <td>39</td>\n",
       "    </tr>\n",
       "    <tr>\n",
       "      <th>5119</th>\n",
       "      <td>3162024</td>\n",
       "      <td>2017-05-30</td>\n",
       "      <td>18.18</td>\n",
       "      <td>DE</td>\n",
       "      <td>1983-01-08</td>\n",
       "      <td>M</td>\n",
       "      <td>2017-04-09</td>\n",
       "      <td>M</td>\n",
       "      <td>51</td>\n",
       "    </tr>\n",
       "    <tr>\n",
       "      <th>2427</th>\n",
       "      <td>3142152</td>\n",
       "      <td>2016-12-06</td>\n",
       "      <td>21.32</td>\n",
       "      <td>DE</td>\n",
       "      <td>1998-06-20</td>\n",
       "      <td>F</td>\n",
       "      <td>2016-12-01</td>\n",
       "      <td>F</td>\n",
       "      <td>5</td>\n",
       "    </tr>\n",
       "    <tr>\n",
       "      <th>14919</th>\n",
       "      <td>3260393</td>\n",
       "      <td>2017-08-07</td>\n",
       "      <td>200.86</td>\n",
       "      <td>US</td>\n",
       "      <td>1990-10-16</td>\n",
       "      <td>M</td>\n",
       "      <td>2017-03-23</td>\n",
       "      <td>M</td>\n",
       "      <td>137</td>\n",
       "    </tr>\n",
       "    <tr>\n",
       "      <th>17822</th>\n",
       "      <td>3296055</td>\n",
       "      <td>2017-03-20</td>\n",
       "      <td>100.00</td>\n",
       "      <td>GB</td>\n",
       "      <td>1992-10-10</td>\n",
       "      <td>M</td>\n",
       "      <td>2017-03-19</td>\n",
       "      <td>M</td>\n",
       "      <td>1</td>\n",
       "    </tr>\n",
       "  </tbody>\n",
       "</table>\n",
       "</div>"
      ],
      "text/plain": [
       "        UserId       Date  Revenue Country        DOB Gender    RegDate  \\\n",
       "18701  3308245 2017-02-22   100.00      GB 1959-09-24      M 2017-02-16   \n",
       "6208   3170523 2017-02-01   300.00      GB 1966-07-06        2017-01-11   \n",
       "15789  3270149 2017-07-13    40.00      GB 1983-05-27      F 2017-01-09   \n",
       "13545  3243608 2017-04-05    17.82      DE 1966-08-14      F 2017-03-24   \n",
       "15257  3262572 2017-08-15    20.00      GB 1981-03-11      M 2016-10-21   \n",
       "2955   3147998 2017-03-04    75.00      GB 1960-06-30      M 2017-01-24   \n",
       "5119   3162024 2017-05-30    18.18      DE 1983-01-08      M 2017-04-09   \n",
       "2427   3142152 2016-12-06    21.32      DE 1998-06-20      F 2016-12-01   \n",
       "14919  3260393 2017-08-07   200.86      US 1990-10-16      M 2017-03-23   \n",
       "17822  3296055 2017-03-20   100.00      GB 1992-10-10      M 2017-03-19   \n",
       "\n",
       "      Gender_corrected  days_since_reg  \n",
       "18701                M               6  \n",
       "6208                 M              21  \n",
       "15789                F             185  \n",
       "13545                F              12  \n",
       "15257                M             298  \n",
       "2955                 M              39  \n",
       "5119                 M              51  \n",
       "2427                 F               5  \n",
       "14919                M             137  \n",
       "17822                M               1  "
      ]
     },
     "execution_count": 27,
     "metadata": {},
     "output_type": "execute_result"
    }
   ],
   "source": [
    "df['days_since_reg'] = ((df['Date'] - df['RegDate']) /pd.Timedelta('1D')).astype(int)\n",
    "df.sample(10)"
   ]
  },
  {
   "cell_type": "markdown",
   "id": "9a5b277f-ee90-4600-a8a0-06956c7737f4",
   "metadata": {},
   "source": [
    "#### The mean and median values for Revenue generated per user"
   ]
  },
  {
   "cell_type": "markdown",
   "id": "e2872c3e-98bf-4286-8697-ff09fdd57ece",
   "metadata": {},
   "source": [
    "First sum the total Revenue across all activities for each user then calculate average Revenue across all users."
   ]
  },
  {
   "cell_type": "code",
   "execution_count": 28,
   "id": "fa32387e-8ba4-48e0-b14f-6c076131d1e7",
   "metadata": {},
   "outputs": [
    {
     "name": "stdout",
     "output_type": "stream",
     "text": [
      "Mean value = 512.7\n",
      "Median value = 80.0\n"
     ]
    }
   ],
   "source": [
    "rev_per_user = df.groupby('UserId').Revenue.sum()\n",
    "print( f\"Mean value = {rev_per_user.mean():.1f}\")\n",
    "print( f\"Median value = {rev_per_user.median():.1f}\")"
   ]
  },
  {
   "cell_type": "markdown",
   "id": "d4c78737-1d35-4298-bd73-4afa6100fd37",
   "metadata": {},
   "source": [
    "The mean value is more likely to be skewed by the presence of outliers. Indeed in the initial EDA of the Activities data above we noted the presence of some large Revenue activities."
   ]
  },
  {
   "cell_type": "markdown",
   "id": "3af1d620-839d-47b7-8b8f-07db5e462a8f",
   "metadata": {},
   "source": [
    "## Question 4"
   ]
  },
  {
   "cell_type": "code",
   "execution_count": 46,
   "id": "35cae647-2a39-464e-bd77-5d5fd59468bf",
   "metadata": {},
   "outputs": [
    {
     "data": {
      "text/plain": [
       "<matplotlib.legend.Legend at 0x129c73f40>"
      ]
     },
     "execution_count": 46,
     "metadata": {},
     "output_type": "execute_result"
    },
    {
     "data": {
      "image/png": "[encoded data removed]",
      "text/plain": [
       "<Figure size 1296x576 with 1 Axes>"
      ]
     },
     "metadata": {},
     "output_type": "display_data"
    }
   ],
   "source": [
    "fig,ax = plt.subplots(1,1,figsize=(18,8))\n",
    "rev_per_user.hist(bins=100,ax=ax); ax.set_title(\"Histogram of Total Revenue per User\"); ax.set_xlabel('Revenue'); ax.set_ylabel('Count')\n",
    "ax.axvline(rev_per_user.mean(),c='g',label='mean'); ax.axvline(rev_per_user.median(),c='r',label='median'); ax.legend()\n"
   ]
  },
  {
   "cell_type": "markdown",
   "id": "ccbf63d6-ca5f-4987-a933-e4c4437291e3",
   "metadata": {},
   "source": [
    "This plot on the left uses fixed number of bins to plot the histogram of revenues per user. Due to the presence of some large values of Revenue this means most users fall into the first bin and the plot is not useful for understanding the details of the distribution for most Users."
   ]
  },
  {
   "cell_type": "code",
   "execution_count": 47,
   "id": "d68f561d-2d0c-4ddc-b7ca-6488342dee3d",
   "metadata": {},
   "outputs": [
    {
     "data": {
      "image/png": "[encoded data removed]",
      "text/plain": [
       "<Figure size 1296x576 with 1 Axes>"
      ]
     },
     "metadata": {},
     "output_type": "display_data"
    }
   ],
   "source": [
    "fig,ax = plt.subplots(1,1,figsize=(18,8))\n",
    "rev_per_user.hist(bins=range(0,510,5),ax=ax); ax.set_title(\"Histogram of Total Revenue per user [constrained X-axis]\"); ax.set_xlabel('Revenue'); ax.set_ylabel('Count');\n",
    "ax.axvline(rev_per_user.mean(),c='g',label='mean'); ax.axvline(rev_per_user.median(),c='r',label='median'); ax.legend()\n",
    "plt.tight_layout()"
   ]
  },
  {
   "cell_type": "markdown",
   "id": "f9ef4415-5ad3-4627-be8d-cc88bb47bf24",
   "metadata": {},
   "source": [
    "This plots the same data, but set the bins of the histogram to cover the range from zero to around the mean value to allow more details to be observed for typical users."
   ]
  },
  {
   "cell_type": "markdown",
   "id": "dfe09b97-f5b8-4e0e-b17c-7904cc1f160c",
   "metadata": {},
   "source": [
    "## Question 5"
   ]
  },
  {
   "cell_type": "markdown",
   "id": "fbe604b0-1d70-4c15-8878-93708a54ce7d",
   "metadata": {},
   "source": [
    "What is the average week 1 revenue, ie the revenue generated by the user in their first week (ie within the first 7 days since registration)?\n",
    "\n",
    "So within 7 days = days_since_reg is 0 - 6"
   ]
  },
  {
   "cell_type": "code",
   "execution_count": 57,
   "id": "c1d617a0-2880-4621-96c6-42ecaf6728a6",
   "metadata": {},
   "outputs": [
    {
     "data": {
      "text/plain": [
       "mean      189.485308\n",
       "median     50.000000\n",
       "Name: Revenue, dtype: float64"
      ]
     },
     "execution_count": 57,
     "metadata": {},
     "output_type": "execute_result"
    }
   ],
   "source": [
    "df[df.days_since_reg < 7].groupby('UserId').Revenue.sum().agg([pd.Series.mean, pd.Series.median])"
   ]
  },
  {
   "cell_type": "code",
   "execution_count": null,
   "id": "11162032-9202-410b-aa67-2666d59b0cdc",
   "metadata": {},
   "outputs": [],
   "source": []
  }
 ],
 "metadata": {
  "kernelspec": {
   "display_name": "Python 3 (ipykernel)",
   "language": "python",
   "name": "python3"
  },
  "language_info": {
   "codemirror_mode": {
    "name": "ipython",
    "version": 3
   },
   "file_extension": ".py",
   "mimetype": "text/x-python",
   "name": "python",
   "nbconvert_exporter": "python",
   "pygments_lexer": "ipython3",
   "version": "3.9.1"
  }
 },
 "nbformat": 4,
 "nbformat_minor": 5
}
