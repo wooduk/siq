{
 "cells": [
  {
   "cell_type": "code",
   "execution_count": 272,
   "id": "c4200e30-72b1-4352-86d3-a9e36bd08c45",
   "metadata": {},
   "outputs": [],
   "source": [
    "import pandas as pd\n",
    "import matplotlib.pyplot as plt\n",
    "plt.style.use('seaborn-white')"
   ]
  },
  {
   "cell_type": "markdown",
   "id": "1e3e695f-306a-42f4-aa18-df01b182b4f9",
   "metadata": {},
   "source": [
    "# Block A: Data cleaning & merging"
   ]
  },
  {
   "cell_type": "markdown",
   "id": "2e99bd35-f8e4-44b1-b273-0df4faf4cc02",
   "metadata": {},
   "source": [
    "### Users - EDA"
   ]
  },
  {
   "cell_type": "code",
   "execution_count": 273,
   "id": "13743627-7af7-4e0e-9275-160eefdcafcf",
   "metadata": {},
   "outputs": [],
   "source": [
    "users_df=pd.read_csv(\"SIQ_data_test/users.csv\")"
   ]
  },
  {
   "cell_type": "code",
   "execution_count": 274,
   "id": "f68737bd-c373-41cf-b8af-e7fe84cb5381",
   "metadata": {},
   "outputs": [
    {
     "name": "stdout",
     "output_type": "stream",
     "text": [
      "(5807, 5)\n"
     ]
    },
    {
     "data": {
      "text/html": [
       "<div>\n",
       "<style scoped>\n",
       "    .dataframe tbody tr th:only-of-type {\n",
       "        vertical-align: middle;\n",
       "    }\n",
       "\n",
       "    .dataframe tbody tr th {\n",
       "        vertical-align: top;\n",
       "    }\n",
       "\n",
       "    .dataframe thead th {\n",
       "        text-align: right;\n",
       "    }\n",
       "</style>\n",
       "<table border=\"1\" class=\"dataframe\">\n",
       "  <thead>\n",
       "    <tr style=\"text-align: right;\">\n",
       "      <th></th>\n",
       "      <th>UserId</th>\n",
       "      <th>Country</th>\n",
       "      <th>DOB</th>\n",
       "      <th>Gender</th>\n",
       "      <th>RegDate</th>\n",
       "    </tr>\n",
       "  </thead>\n",
       "  <tbody>\n",
       "    <tr>\n",
       "      <th>0</th>\n",
       "      <td>1326865</td>\n",
       "      <td>DE</td>\n",
       "      <td>1988-05-04</td>\n",
       "      <td>M</td>\n",
       "      <td>2016-03-24</td>\n",
       "    </tr>\n",
       "    <tr>\n",
       "      <th>1</th>\n",
       "      <td>1333278</td>\n",
       "      <td>GB</td>\n",
       "      <td>1971-07-21</td>\n",
       "      <td>M</td>\n",
       "      <td>2016-02-09</td>\n",
       "    </tr>\n",
       "    <tr>\n",
       "      <th>2</th>\n",
       "      <td>1336967</td>\n",
       "      <td>GB</td>\n",
       "      <td>1983-07-31</td>\n",
       "      <td>M</td>\n",
       "      <td>2016-01-29</td>\n",
       "    </tr>\n",
       "    <tr>\n",
       "      <th>3</th>\n",
       "      <td>1339784</td>\n",
       "      <td>Other</td>\n",
       "      <td>1976-09-21</td>\n",
       "      <td>M</td>\n",
       "      <td>2016-01-21</td>\n",
       "    </tr>\n",
       "    <tr>\n",
       "      <th>4</th>\n",
       "      <td>1339829</td>\n",
       "      <td>Other</td>\n",
       "      <td>1981-05-03</td>\n",
       "      <td>F</td>\n",
       "      <td>2016-04-12</td>\n",
       "    </tr>\n",
       "  </tbody>\n",
       "</table>\n",
       "</div>"
      ],
      "text/plain": [
       "    UserId Country         DOB Gender     RegDate\n",
       "0  1326865      DE  1988-05-04      M  2016-03-24\n",
       "1  1333278      GB  1971-07-21      M  2016-02-09\n",
       "2  1336967      GB  1983-07-31      M  2016-01-29\n",
       "3  1339784   Other  1976-09-21      M  2016-01-21\n",
       "4  1339829   Other  1981-05-03      F  2016-04-12"
      ]
     },
     "execution_count": 274,
     "metadata": {},
     "output_type": "execute_result"
    }
   ],
   "source": [
    "print(users_df.shape)\n",
    "users_df.head()"
   ]
  },
  {
   "cell_type": "markdown",
   "id": "c51c80e2-c025-44c9-91c1-1a9237d99a5f",
   "metadata": {},
   "source": [
    "Reload with setting some types"
   ]
  },
  {
   "cell_type": "code",
   "execution_count": 275,
   "id": "df4455f2-4c5b-4152-ae86-1727ab6c15a4",
   "metadata": {},
   "outputs": [],
   "source": [
    "users_df=pd.read_csv(\"SIQ_data_test/users.csv\", dtype={'UserId':str, 'Country':str, 'Gender':str}, parse_dates=['DOB','RegDate'])"
   ]
  },
  {
   "cell_type": "markdown",
   "id": "de41fab4-99ee-44e2-843f-d734dd57534d",
   "metadata": {},
   "source": [
    "Sometimes opt for using profiling tools for initial look at data. In this case just look manually at the columns."
   ]
  },
  {
   "cell_type": "markdown",
   "id": "76a27931-489a-40ce-b611-de95491a7166",
   "metadata": {},
   "source": [
    "#### User Id"
   ]
  },
  {
   "cell_type": "code",
   "execution_count": 276,
   "id": "4eef8ec6-ecd0-4552-a9dc-83edd58330d2",
   "metadata": {},
   "outputs": [
    {
     "name": "stdout",
     "output_type": "stream",
     "text": [
      "0 missing values for UserId\n",
      "5,807 unique values for UserId\n",
      "0 duplicate values for UserId\n"
     ]
    }
   ],
   "source": [
    "print( f\"{users_df.UserId.isna().sum():,} missing values for UserId\")\n",
    "print( f\"{users_df.UserId.nunique():,} unique values for UserId\")\n",
    "print( f\"{users_df.UserId.duplicated().sum():,} duplicate values for UserId\")"
   ]
  },
  {
   "cell_type": "markdown",
   "id": "53d9015b-d434-42ff-a07e-4395b8617451",
   "metadata": {},
   "source": [
    "#### Country"
   ]
  },
  {
   "cell_type": "code",
   "execution_count": 277,
   "id": "b3d2a4d8-1000-4f6f-abeb-93eef10db426",
   "metadata": {},
   "outputs": [
    {
     "name": "stdout",
     "output_type": "stream",
     "text": [
      "0 missing values for Country\n",
      "5 unique values for Country\n"
     ]
    },
    {
     "data": {
      "text/plain": [
       "GB       2489\n",
       "US       1017\n",
       "DE        945\n",
       "Other     889\n",
       "FR        467\n",
       "Name: Country, dtype: int64"
      ]
     },
     "metadata": {},
     "output_type": "display_data"
    }
   ],
   "source": [
    "print( f\"{users_df.Country.isna().sum():,} missing values for Country\")\n",
    "print( f\"{users_df.Country.nunique():,} unique values for Country\")\n",
    "display(users_df.Country.value_counts(dropna=False))"
   ]
  },
  {
   "cell_type": "markdown",
   "id": "6673efd6-ca07-402d-b7d7-368b9818b789",
   "metadata": {},
   "source": [
    "#### Gender"
   ]
  },
  {
   "cell_type": "code",
   "execution_count": 278,
   "id": "50b17585-874e-4cc9-bc4f-72530c537f05",
   "metadata": {},
   "outputs": [
    {
     "name": "stdout",
     "output_type": "stream",
     "text": [
      "0 missing values for Gender\n",
      "3 unique values for Gender\n"
     ]
    },
    {
     "data": {
      "text/plain": [
       "M    2909\n",
       "     1481\n",
       "F    1417\n",
       "Name: Gender, dtype: int64"
      ]
     },
     "metadata": {},
     "output_type": "display_data"
    }
   ],
   "source": [
    "print( f\"{users_df.Gender.isna().sum():,} missing values for Gender\")\n",
    "print( f\"{users_df.Gender.nunique():,} unique values for Gender\")\n",
    "display(users_df.Gender.value_counts(dropna=False))"
   ]
  },
  {
   "cell_type": "code",
   "execution_count": 279,
   "id": "9b05e202-6248-4851-9f89-d78fc7c71b75",
   "metadata": {},
   "outputs": [
    {
     "name": "stdout",
     "output_type": "stream",
     "text": [
      "1,481 rows are missing Gender value.\n"
     ]
    }
   ],
   "source": [
    "print(f\"{(users_df.Gender==' ').sum():,} rows are missing Gender value.\")"
   ]
  },
  {
   "cell_type": "markdown",
   "id": "089c8c37-0a9c-491b-baed-2168c842a4ab",
   "metadata": {
    "tags": []
   },
   "source": [
    "## Question 1"
   ]
  },
  {
   "cell_type": "markdown",
   "id": "796d39b1-a492-4424-9c6b-3a1d1564957b",
   "metadata": {},
   "source": [
    "Please load the users and activity tables into Python.\n",
    " - a.\tHow many variables are in the datasets?\n",
    "      - There are 4 variables in the user data set: \n",
    "                  `Country`, `DOB`, `Gender`, and `RegDate`\n",
    "      - There are 2 variables in the Activities dataset\n",
    "                  `Date`, `Revenue`\n",
    "      - In each file is a common identifier: `UserId`\n",
    "                 \n",
    "                  \n",
    " - b.\tHow many observations are in the users datasets?\n",
    "      - There are 5,807 observations in the User data set. \n",
    "      - There are 22,642 observations in the Activities data set (see analysis below).\n",
    "      \n"
   ]
  },
  {
   "cell_type": "markdown",
   "id": "9808f175-725f-4a98-945d-3fa70fdefc0d",
   "metadata": {
    "tags": []
   },
   "source": [
    "## Question 2"
   ]
  },
  {
   "cell_type": "markdown",
   "id": "4484c3bc-fa84-427d-a5fd-a864a7cb3291",
   "metadata": {},
   "source": [
    "As there are no duplicate UserIds in the dataset, assume that 1 row = 1 user.\n",
    "\n",
    "* a: There are 2,909 Male users in the dataset.\n",
    "* b: There are 1,417 Female users in the dataset.\n",
    "* c: There are 1,481 users missing a value in the dataset."
   ]
  },
  {
   "cell_type": "markdown",
   "id": "47fe5910-9fbb-4f3a-9428-870da8482cd2",
   "metadata": {},
   "source": [
    "Assume all missing / ' ' values are M. Correct the column for future analysis."
   ]
  },
  {
   "cell_type": "code",
   "execution_count": 280,
   "id": "f484cda0-8737-4b7e-b1ca-124c3a32cc93",
   "metadata": {
    "tags": []
   },
   "outputs": [
    {
     "data": {
      "text/plain": [
       "M    4390\n",
       "F    1417\n",
       "Name: Gender_corrected, dtype: int64"
      ]
     },
     "execution_count": 280,
     "metadata": {},
     "output_type": "execute_result"
    }
   ],
   "source": [
    "users_df['Gender_corrected'] = users_df.Gender.apply(lambda s: 'M' if s == ' ' else s)\n",
    "users_df.Gender_corrected.value_counts()"
   ]
  },
  {
   "cell_type": "markdown",
   "id": "5ffbbae3-cefa-4a07-921b-dbe459f0a2bb",
   "metadata": {},
   "source": [
    "#### RegDate"
   ]
  },
  {
   "cell_type": "code",
   "execution_count": 281,
   "id": "a3ddc37d-f92d-418c-80be-74e9017ea3b9",
   "metadata": {},
   "outputs": [
    {
     "name": "stdout",
     "output_type": "stream",
     "text": [
      "Red Date (Min - Max): 2015-11-26 00:00:00 2017-05-10 00:00:00\n"
     ]
    }
   ],
   "source": [
    "print(\"Red Date (Min - Max):\", users_df.RegDate.min(),users_df.RegDate.max())"
   ]
  },
  {
   "cell_type": "code",
   "execution_count": 282,
   "id": "ea4d3b60-ffda-4c39-8fef-791cd4f02c73",
   "metadata": {},
   "outputs": [
    {
     "data": {
      "text/plain": [
       "<AxesSubplot:title={'center':'Histogram of RegDate values by Year'}, xlabel='RegDate'>"
      ]
     },
     "execution_count": 282,
     "metadata": {},
     "output_type": "execute_result"
    },
    {
     "data": {
      "image/png": "[encoded data removed]",
      "text/plain": [
       "<Figure size 1296x432 with 1 Axes>"
      ]
     },
     "metadata": {},
     "output_type": "display_data"
    }
   ],
   "source": [
    "users_df.groupby(pd.Grouper(key='RegDate', freq='W')).size().plot.bar(figsize=(18,6), title='Histogram of RegDate values by Year')"
   ]
  },
  {
   "cell_type": "markdown",
   "id": "6b3d8484-8215-46e8-9df6-199b34e8ede2",
   "metadata": {},
   "source": [
    "Bulk of RegDate in period 2016-10-02 to 2017-05-07. "
   ]
  },
  {
   "cell_type": "markdown",
   "id": "8cbd6340-6054-41c2-96c3-c8d98fcd798b",
   "metadata": {},
   "source": [
    "#### DOB"
   ]
  },
  {
   "cell_type": "code",
   "execution_count": 283,
   "id": "74847bd3-0a0e-4039-9d4b-c7ba77335b16",
   "metadata": {},
   "outputs": [
    {
     "name": "stdout",
     "output_type": "stream",
     "text": [
      "Red Date (Min - Max): 1900-08-05 00:00:00 1999-01-23 00:00:00\n"
     ]
    }
   ],
   "source": [
    "print(\"Red Date (Min - Max):\", users_df.DOB.min(),users_df.DOB.max())"
   ]
  },
  {
   "cell_type": "code",
   "execution_count": 284,
   "id": "e0a3cb1a-879e-4c94-8c8b-361106410e32",
   "metadata": {},
   "outputs": [
    {
     "data": {
      "image/png": "[encoded data removed]",
      "text/plain": [
       "<Figure size 1296x432 with 1 Axes>"
      ]
     },
     "metadata": {},
     "output_type": "display_data"
    }
   ],
   "source": [
    "dob_by_year = users_df.groupby(pd.Grouper(key='DOB', freq='Y')).size().rename('count')\n",
    "dob_by_year.index = dob_by_year.index.year\n",
    "dob_by_year.sort_index().plot.bar(figsize=(18,6),title='Histogram of DOB values by Year');\n"
   ]
  },
  {
   "cell_type": "code",
   "execution_count": 285,
   "id": "83949370-14aa-43b0-b16c-2bfe5d6083d8",
   "metadata": {},
   "outputs": [
    {
     "data": {
      "text/html": [
       "<div>\n",
       "<style scoped>\n",
       "    .dataframe tbody tr th:only-of-type {\n",
       "        vertical-align: middle;\n",
       "    }\n",
       "\n",
       "    .dataframe tbody tr th {\n",
       "        vertical-align: top;\n",
       "    }\n",
       "\n",
       "    .dataframe thead th {\n",
       "        text-align: right;\n",
       "    }\n",
       "</style>\n",
       "<table border=\"1\" class=\"dataframe\">\n",
       "  <thead>\n",
       "    <tr style=\"text-align: right;\">\n",
       "      <th></th>\n",
       "      <th>UserId</th>\n",
       "      <th>Country</th>\n",
       "      <th>DOB</th>\n",
       "      <th>Gender</th>\n",
       "      <th>RegDate</th>\n",
       "      <th>Gender_corrected</th>\n",
       "    </tr>\n",
       "  </thead>\n",
       "  <tbody>\n",
       "    <tr>\n",
       "      <th>833</th>\n",
       "      <td>3144147</td>\n",
       "      <td>GB</td>\n",
       "      <td>1900-08-05</td>\n",
       "      <td>F</td>\n",
       "      <td>2017-01-12</td>\n",
       "      <td>F</td>\n",
       "    </tr>\n",
       "  </tbody>\n",
       "</table>\n",
       "</div>"
      ],
      "text/plain": [
       "      UserId Country        DOB Gender    RegDate Gender_corrected\n",
       "833  3144147      GB 1900-08-05      F 2017-01-12                F"
      ]
     },
     "execution_count": 285,
     "metadata": {},
     "output_type": "execute_result"
    }
   ],
   "source": [
    "users_df[users_df.DOB < '1920-01-01']"
   ]
  },
  {
   "cell_type": "markdown",
   "id": "07658902-26b1-49c5-abac-06fef6864651",
   "metadata": {},
   "source": [
    "Is this an error in the data? This User would be 115 years old at the time of earliest registration date. Seems unlikely."
   ]
  },
  {
   "cell_type": "markdown",
   "id": "6c428b50-a36a-4478-a675-987adba8a3cf",
   "metadata": {},
   "source": [
    "### Activities"
   ]
  },
  {
   "cell_type": "code",
   "execution_count": 286,
   "id": "9f5faf6f-52f6-4eda-8d17-b21e633c65f6",
   "metadata": {},
   "outputs": [
    {
     "name": "stdout",
     "output_type": "stream",
     "text": [
      "(22642, 3)\n"
     ]
    },
    {
     "data": {
      "text/html": [
       "<div>\n",
       "<style scoped>\n",
       "    .dataframe tbody tr th:only-of-type {\n",
       "        vertical-align: middle;\n",
       "    }\n",
       "\n",
       "    .dataframe tbody tr th {\n",
       "        vertical-align: top;\n",
       "    }\n",
       "\n",
       "    .dataframe thead th {\n",
       "        text-align: right;\n",
       "    }\n",
       "</style>\n",
       "<table border=\"1\" class=\"dataframe\">\n",
       "  <thead>\n",
       "    <tr style=\"text-align: right;\">\n",
       "      <th></th>\n",
       "      <th>UserId</th>\n",
       "      <th>Date</th>\n",
       "      <th>Revenue</th>\n",
       "    </tr>\n",
       "  </thead>\n",
       "  <tbody>\n",
       "    <tr>\n",
       "      <th>0</th>\n",
       "      <td>1326865</td>\n",
       "      <td>2017-02-19</td>\n",
       "      <td>17.05</td>\n",
       "    </tr>\n",
       "    <tr>\n",
       "      <th>1</th>\n",
       "      <td>1326865</td>\n",
       "      <td>2017-02-28</td>\n",
       "      <td>17.05</td>\n",
       "    </tr>\n",
       "    <tr>\n",
       "      <th>2</th>\n",
       "      <td>1326865</td>\n",
       "      <td>2017-03-06</td>\n",
       "      <td>17.16</td>\n",
       "    </tr>\n",
       "    <tr>\n",
       "      <th>3</th>\n",
       "      <td>1326865</td>\n",
       "      <td>2017-03-07</td>\n",
       "      <td>17.16</td>\n",
       "    </tr>\n",
       "    <tr>\n",
       "      <th>4</th>\n",
       "      <td>1326865</td>\n",
       "      <td>2017-03-08</td>\n",
       "      <td>17.16</td>\n",
       "    </tr>\n",
       "  </tbody>\n",
       "</table>\n",
       "</div>"
      ],
      "text/plain": [
       "    UserId        Date  Revenue\n",
       "0  1326865  2017-02-19    17.05\n",
       "1  1326865  2017-02-28    17.05\n",
       "2  1326865  2017-03-06    17.16\n",
       "3  1326865  2017-03-07    17.16\n",
       "4  1326865  2017-03-08    17.16"
      ]
     },
     "execution_count": 286,
     "metadata": {},
     "output_type": "execute_result"
    }
   ],
   "source": [
    "activ_df=pd.read_csv(\"SIQ_data_test/activities.csv\")\n",
    "print(activ_df.shape)\n",
    "activ_df.head()"
   ]
  },
  {
   "cell_type": "markdown",
   "id": "847bfedb-9323-40a1-8c5e-352036a7de10",
   "metadata": {},
   "source": [
    "Reload with setting some types"
   ]
  },
  {
   "cell_type": "code",
   "execution_count": 287,
   "id": "ccfe4f48-f402-4f33-9f72-8576117b65d8",
   "metadata": {},
   "outputs": [],
   "source": [
    "activ_df=pd.read_csv(\"SIQ_data_test/activities.csv\", dtype={'UserId':str, 'Revenue':float}, parse_dates=['Date'])"
   ]
  },
  {
   "cell_type": "markdown",
   "id": "84086be5-7523-4874-b36f-6adc32d126ac",
   "metadata": {},
   "source": [
    "#### UserId"
   ]
  },
  {
   "cell_type": "code",
   "execution_count": 288,
   "id": "ecabdd31-94a3-451f-926e-c0985c5729ee",
   "metadata": {},
   "outputs": [
    {
     "name": "stdout",
     "output_type": "stream",
     "text": [
      "0 missing values for UserId\n",
      "5,797 unique values for UserId\n",
      "16,845 duplicate values for UserId\n"
     ]
    }
   ],
   "source": [
    "print( f\"{activ_df.UserId.isna().sum():,} missing values for UserId\")\n",
    "print( f\"{activ_df.UserId.nunique():,} unique values for UserId\")\n",
    "print( f\"{activ_df.UserId.duplicated().sum():,} duplicate values for UserId\")"
   ]
  },
  {
   "cell_type": "markdown",
   "id": "f2edcfc2-6ab9-43c1-bd04-084a22e85423",
   "metadata": {},
   "source": [
    "So mulitple 'activities' per user."
   ]
  },
  {
   "cell_type": "markdown",
   "id": "10ef4701-b178-4e7a-9ccc-b19248715122",
   "metadata": {},
   "source": [
    "Cross check how many UserIds match UserIds in User data."
   ]
  },
  {
   "cell_type": "code",
   "execution_count": 289,
   "id": "37a904d1-a6b6-41e1-8bc0-324163209283",
   "metadata": {},
   "outputs": [
    {
     "name": "stdout",
     "output_type": "stream",
     "text": [
      "5,797 UserId in both Users and Activities.\n",
      "10 UserId in Users but not Activities.\n",
      "0 UserId in Activities but not Users.\n"
     ]
    }
   ],
   "source": [
    "print(f\"{len(set(users_df.UserId) & set(activ_df.UserId)):,} UserId in both Users and Activities.\")\n",
    "print(f\"{len(set(users_df.UserId) - set(activ_df.UserId)):,} UserId in Users but not Activities.\")\n",
    "print(f\"{len(set(activ_df.UserId) - set(users_df.UserId)):,} UserId in Activities but not Users.\")\n"
   ]
  },
  {
   "cell_type": "markdown",
   "id": "450e8024-1a7a-4b98-8e2c-e5b95f5ae30b",
   "metadata": {},
   "source": [
    "So 10 users have no activities, be prepared in joining."
   ]
  },
  {
   "cell_type": "markdown",
   "id": "f5d89ac9-3c5c-44cd-b689-1b26b671f85c",
   "metadata": {
    "tags": []
   },
   "source": [
    "#### Date"
   ]
  },
  {
   "cell_type": "code",
   "execution_count": 290,
   "id": "14e841fd-4ce6-4b27-9eca-06329be7192f",
   "metadata": {},
   "outputs": [
    {
     "name": "stdout",
     "output_type": "stream",
     "text": [
      "Red Date (Min - Max): 2016-09-24 00:00:00 2017-10-01 00:00:00\n"
     ]
    }
   ],
   "source": [
    "print(\"Red Date (Min - Max):\", activ_df.Date.min(),activ_df.Date.max())\n"
   ]
  },
  {
   "cell_type": "code",
   "execution_count": 291,
   "id": "b8d9f808-29c3-4daf-8e1b-fe5eac6ee166",
   "metadata": {},
   "outputs": [
    {
     "data": {
      "image/png": "[encoded data removed]",
      "text/plain": [
       "<Figure size 1296x432 with 1 Axes>"
      ]
     },
     "metadata": {},
     "output_type": "display_data"
    }
   ],
   "source": [
    "date_by_week = activ_df.groupby(pd.Grouper(key='Date', freq='W')).size().rename('count')\n",
    "date_by_week.sort_index().plot.bar(figsize=(18,6),title='Histogram of Date values by Week');\n"
   ]
  },
  {
   "cell_type": "markdown",
   "id": "7adda5f8-6852-4bb4-9018-c4e0044e8d38",
   "metadata": {
    "tags": []
   },
   "source": [
    "#### Revenue"
   ]
  },
  {
   "cell_type": "code",
   "execution_count": 292,
   "id": "3b540c6f-5841-4faa-9a00-2916472bd6b4",
   "metadata": {},
   "outputs": [
    {
     "name": "stdout",
     "output_type": "stream",
     "text": [
      "0 missing values for Revenue\n",
      "Mean value = 131.3, Max = 19000.0, Min = 11.0\n",
      "Median value = 40.0\n"
     ]
    }
   ],
   "source": [
    "print( f\"{activ_df.Revenue.isna().sum():,} missing values for Revenue\")\n",
    "print( f\"Mean value = {activ_df.Revenue.mean():.1f}, Max = {activ_df.Revenue.max():.1f}, Min = {activ_df.Revenue.min():.1f}\")\n",
    "print( f\"Median value = {activ_df.Revenue.median():.1f}\")"
   ]
  },
  {
   "cell_type": "code",
   "execution_count": 293,
   "id": "7095ac0f-9c60-4c13-b2d6-f4a02f1af2aa",
   "metadata": {},
   "outputs": [
    {
     "data": {
      "text/plain": [
       "Text(0, 0.5, 'Count')"
      ]
     },
     "execution_count": 293,
     "metadata": {},
     "output_type": "execute_result"
    },
    {
     "data": {
      "image/png": "[encoded data removed]",
      "text/plain": [
       "<Figure size 1296x432 with 2 Axes>"
      ]
     },
     "metadata": {},
     "output_type": "display_data"
    }
   ],
   "source": [
    "fig,ax = plt.subplots(1,2,figsize=(18,6))\n",
    "activ_df.Revenue.hist(bins=100,ax=ax[0]); ax[0].set_xlabel('Revenue'); ax[0].set_ylabel('Count')\n",
    "activ_df.Revenue.hist(bins=range(0,500,10),ax=ax[1]); ax[1].set_xlabel('Revenue'); ax[0].set_ylabel('Count')"
   ]
  },
  {
   "cell_type": "markdown",
   "id": "a8bd3567-6d50-46ce-9add-312d86b96a7b",
   "metadata": {},
   "source": [
    "Looks like the value if 19000 is an outlier, most values < 500. Have a look at that distribution."
   ]
  },
  {
   "cell_type": "code",
   "execution_count": 294,
   "id": "cff33213-38be-408e-a919-8b1c77a86d6b",
   "metadata": {},
   "outputs": [
    {
     "data": {
      "text/plain": [
       "0.25     20.000\n",
       "0.50     40.000\n",
       "0.75    100.000\n",
       "0.95    469.834\n",
       "Name: Revenue, dtype: float64"
      ]
     },
     "metadata": {},
     "output_type": "display_data"
    }
   ],
   "source": [
    "display(activ_df.Revenue.quantile([0.25,0.5,0.75,0.95]))"
   ]
  },
  {
   "cell_type": "code",
   "execution_count": 295,
   "id": "4e359821-9deb-4c0a-946a-fce621b9f6a8",
   "metadata": {},
   "outputs": [
    {
     "data": {
      "text/plain": [
       "(0, 500]          21666\n",
       "(500, 1000]         602\n",
       "(1000, 2000]        221\n",
       "(2000, 3000]         79\n",
       "(3000, 4000]         28\n",
       "(5000, 10000]        19\n",
       "(4000, 5000]         17\n",
       "(10000, 20000]       10\n",
       "Name: Revenue, dtype: int64"
      ]
     },
     "metadata": {},
     "output_type": "display_data"
    }
   ],
   "source": [
    "display(pd.cut(activ_df.Revenue, bins=[0,500,1000,2000,3000,4000,5000,10000,20000]).value_counts())"
   ]
  },
  {
   "cell_type": "code",
   "execution_count": 296,
   "id": "f8f1a721-8621-4a3c-8f93-cccb3cfd2bba",
   "metadata": {},
   "outputs": [
    {
     "data": {
      "text/plain": [
       "Country\n",
       "DE        93.446874\n",
       "FR       152.573858\n",
       "GB       137.931935\n",
       "Other     92.676633\n",
       "US       160.093386\n",
       "Name: Revenue, dtype: float64"
      ]
     },
     "metadata": {},
     "output_type": "display_data"
    }
   ],
   "source": [
    "display(activ_df.merge(users_df,on='UserId').groupby('Country').Revenue.mean())"
   ]
  },
  {
   "cell_type": "code",
   "execution_count": 297,
   "id": "3e797369-4f18-41e7-841c-bf4a96c6f513",
   "metadata": {},
   "outputs": [
    {
     "data": {
      "text/plain": [
       "Country\n",
       "GB    9\n",
       "US    1\n",
       "dtype: int64"
      ]
     },
     "execution_count": 297,
     "metadata": {},
     "output_type": "execute_result"
    }
   ],
   "source": [
    "tmp=activ_df.merge(users_df,on='UserId')\n",
    "tmp[tmp.Revenue > 10000].groupby('Country').size()\n"
   ]
  },
  {
   "cell_type": "markdown",
   "id": "54ab7067-9ff2-4e60-bcba-94b7314934c5",
   "metadata": {},
   "source": [
    "The Revenue data looks highly skewed. Don't know enough about the domain at this stage to know if these outliers are errors or real and therefore whether to remove them from the analysis."
   ]
  },
  {
   "cell_type": "markdown",
   "id": "67106866-79a8-4cf4-b542-8f6a797ff2b0",
   "metadata": {},
   "source": [
    "## Question 3"
   ]
  },
  {
   "cell_type": "markdown",
   "id": "a82ec9ea-065d-4cfa-99fe-ac41775d5cf6",
   "metadata": {},
   "source": [
    "Merge the two datasets and calculate the days since registration for each activity. What is the total mean and median revenue generated per user (ie across all activities)? How do you interpret the result?"
   ]
  },
  {
   "cell_type": "code",
   "execution_count": 298,
   "id": "9466482e-9b72-4347-9f92-a22ba9faa7fe",
   "metadata": {},
   "outputs": [
    {
     "name": "stdout",
     "output_type": "stream",
     "text": [
      "(22642, 8)\n"
     ]
    },
    {
     "data": {
      "text/html": [
       "<div>\n",
       "<style scoped>\n",
       "    .dataframe tbody tr th:only-of-type {\n",
       "        vertical-align: middle;\n",
       "    }\n",
       "\n",
       "    .dataframe tbody tr th {\n",
       "        vertical-align: top;\n",
       "    }\n",
       "\n",
       "    .dataframe thead th {\n",
       "        text-align: right;\n",
       "    }\n",
       "</style>\n",
       "<table border=\"1\" class=\"dataframe\">\n",
       "  <thead>\n",
       "    <tr style=\"text-align: right;\">\n",
       "      <th></th>\n",
       "      <th>UserId</th>\n",
       "      <th>Date</th>\n",
       "      <th>Revenue</th>\n",
       "      <th>Country</th>\n",
       "      <th>DOB</th>\n",
       "      <th>Gender</th>\n",
       "      <th>RegDate</th>\n",
       "      <th>Gender_corrected</th>\n",
       "    </tr>\n",
       "  </thead>\n",
       "  <tbody>\n",
       "    <tr>\n",
       "      <th>0</th>\n",
       "      <td>1326865</td>\n",
       "      <td>2017-02-19</td>\n",
       "      <td>17.05</td>\n",
       "      <td>DE</td>\n",
       "      <td>1988-05-04</td>\n",
       "      <td>M</td>\n",
       "      <td>2016-03-24</td>\n",
       "      <td>M</td>\n",
       "    </tr>\n",
       "    <tr>\n",
       "      <th>1</th>\n",
       "      <td>1326865</td>\n",
       "      <td>2017-02-28</td>\n",
       "      <td>17.05</td>\n",
       "      <td>DE</td>\n",
       "      <td>1988-05-04</td>\n",
       "      <td>M</td>\n",
       "      <td>2016-03-24</td>\n",
       "      <td>M</td>\n",
       "    </tr>\n",
       "    <tr>\n",
       "      <th>2</th>\n",
       "      <td>1326865</td>\n",
       "      <td>2017-03-06</td>\n",
       "      <td>17.16</td>\n",
       "      <td>DE</td>\n",
       "      <td>1988-05-04</td>\n",
       "      <td>M</td>\n",
       "      <td>2016-03-24</td>\n",
       "      <td>M</td>\n",
       "    </tr>\n",
       "    <tr>\n",
       "      <th>3</th>\n",
       "      <td>1326865</td>\n",
       "      <td>2017-03-07</td>\n",
       "      <td>17.16</td>\n",
       "      <td>DE</td>\n",
       "      <td>1988-05-04</td>\n",
       "      <td>M</td>\n",
       "      <td>2016-03-24</td>\n",
       "      <td>M</td>\n",
       "    </tr>\n",
       "    <tr>\n",
       "      <th>4</th>\n",
       "      <td>1326865</td>\n",
       "      <td>2017-03-08</td>\n",
       "      <td>17.16</td>\n",
       "      <td>DE</td>\n",
       "      <td>1988-05-04</td>\n",
       "      <td>M</td>\n",
       "      <td>2016-03-24</td>\n",
       "      <td>M</td>\n",
       "    </tr>\n",
       "  </tbody>\n",
       "</table>\n",
       "</div>"
      ],
      "text/plain": [
       "    UserId       Date  Revenue Country        DOB Gender    RegDate  \\\n",
       "0  1326865 2017-02-19    17.05      DE 1988-05-04      M 2016-03-24   \n",
       "1  1326865 2017-02-28    17.05      DE 1988-05-04      M 2016-03-24   \n",
       "2  1326865 2017-03-06    17.16      DE 1988-05-04      M 2016-03-24   \n",
       "3  1326865 2017-03-07    17.16      DE 1988-05-04      M 2016-03-24   \n",
       "4  1326865 2017-03-08    17.16      DE 1988-05-04      M 2016-03-24   \n",
       "\n",
       "  Gender_corrected  \n",
       "0                M  \n",
       "1                M  \n",
       "2                M  \n",
       "3                M  \n",
       "4                M  "
      ]
     },
     "execution_count": 298,
     "metadata": {},
     "output_type": "execute_result"
    }
   ],
   "source": [
    "df = activ_df.merge(users_df, on='UserId', how='left')\n",
    "print(df.shape)\n",
    "df.head()"
   ]
  },
  {
   "cell_type": "code",
   "execution_count": 299,
   "id": "77181c81-68cc-4d53-909e-e2d55ddb2479",
   "metadata": {},
   "outputs": [
    {
     "data": {
      "text/html": [
       "<div>\n",
       "<style scoped>\n",
       "    .dataframe tbody tr th:only-of-type {\n",
       "        vertical-align: middle;\n",
       "    }\n",
       "\n",
       "    .dataframe tbody tr th {\n",
       "        vertical-align: top;\n",
       "    }\n",
       "\n",
       "    .dataframe thead th {\n",
       "        text-align: right;\n",
       "    }\n",
       "</style>\n",
       "<table border=\"1\" class=\"dataframe\">\n",
       "  <thead>\n",
       "    <tr style=\"text-align: right;\">\n",
       "      <th></th>\n",
       "      <th>UserId</th>\n",
       "      <th>Date</th>\n",
       "      <th>Revenue</th>\n",
       "      <th>Country</th>\n",
       "      <th>DOB</th>\n",
       "      <th>Gender</th>\n",
       "      <th>RegDate</th>\n",
       "      <th>Gender_corrected</th>\n",
       "      <th>days_since_reg</th>\n",
       "    </tr>\n",
       "  </thead>\n",
       "  <tbody>\n",
       "    <tr>\n",
       "      <th>16134</th>\n",
       "      <td>3272415</td>\n",
       "      <td>2017-02-21</td>\n",
       "      <td>93.79</td>\n",
       "      <td>FR</td>\n",
       "      <td>1961-04-16</td>\n",
       "      <td>M</td>\n",
       "      <td>2017-02-21</td>\n",
       "      <td>M</td>\n",
       "      <td>0</td>\n",
       "    </tr>\n",
       "    <tr>\n",
       "      <th>21190</th>\n",
       "      <td>3328421</td>\n",
       "      <td>2017-05-04</td>\n",
       "      <td>70.00</td>\n",
       "      <td>GB</td>\n",
       "      <td>1970-12-17</td>\n",
       "      <td></td>\n",
       "      <td>2017-04-04</td>\n",
       "      <td>M</td>\n",
       "      <td>30</td>\n",
       "    </tr>\n",
       "    <tr>\n",
       "      <th>20618</th>\n",
       "      <td>3321908</td>\n",
       "      <td>2017-01-27</td>\n",
       "      <td>62.17</td>\n",
       "      <td>DE</td>\n",
       "      <td>1964-11-14</td>\n",
       "      <td></td>\n",
       "      <td>2016-11-25</td>\n",
       "      <td>M</td>\n",
       "      <td>63</td>\n",
       "    </tr>\n",
       "    <tr>\n",
       "      <th>20051</th>\n",
       "      <td>3319241</td>\n",
       "      <td>2017-01-08</td>\n",
       "      <td>30.00</td>\n",
       "      <td>GB</td>\n",
       "      <td>1988-02-09</td>\n",
       "      <td>F</td>\n",
       "      <td>2016-11-10</td>\n",
       "      <td>F</td>\n",
       "      <td>59</td>\n",
       "    </tr>\n",
       "    <tr>\n",
       "      <th>19343</th>\n",
       "      <td>3313207</td>\n",
       "      <td>2017-02-24</td>\n",
       "      <td>20.00</td>\n",
       "      <td>GB</td>\n",
       "      <td>1993-03-26</td>\n",
       "      <td></td>\n",
       "      <td>2017-02-23</td>\n",
       "      <td>M</td>\n",
       "      <td>1</td>\n",
       "    </tr>\n",
       "    <tr>\n",
       "      <th>561</th>\n",
       "      <td>2459297</td>\n",
       "      <td>2017-03-22</td>\n",
       "      <td>17.09</td>\n",
       "      <td>US</td>\n",
       "      <td>1998-02-02</td>\n",
       "      <td>M</td>\n",
       "      <td>2016-09-24</td>\n",
       "      <td>M</td>\n",
       "      <td>179</td>\n",
       "    </tr>\n",
       "    <tr>\n",
       "      <th>16491</th>\n",
       "      <td>3277930</td>\n",
       "      <td>2017-06-22</td>\n",
       "      <td>100.00</td>\n",
       "      <td>GB</td>\n",
       "      <td>1980-06-11</td>\n",
       "      <td></td>\n",
       "      <td>2017-03-22</td>\n",
       "      <td>M</td>\n",
       "      <td>92</td>\n",
       "    </tr>\n",
       "    <tr>\n",
       "      <th>16568</th>\n",
       "      <td>3278643</td>\n",
       "      <td>2017-04-13</td>\n",
       "      <td>30.00</td>\n",
       "      <td>GB</td>\n",
       "      <td>1972-12-09</td>\n",
       "      <td>M</td>\n",
       "      <td>2017-01-01</td>\n",
       "      <td>M</td>\n",
       "      <td>102</td>\n",
       "    </tr>\n",
       "    <tr>\n",
       "      <th>17912</th>\n",
       "      <td>3296860</td>\n",
       "      <td>2017-04-03</td>\n",
       "      <td>58.39</td>\n",
       "      <td>Other</td>\n",
       "      <td>1986-11-18</td>\n",
       "      <td></td>\n",
       "      <td>2017-04-03</td>\n",
       "      <td>M</td>\n",
       "      <td>0</td>\n",
       "    </tr>\n",
       "    <tr>\n",
       "      <th>21523</th>\n",
       "      <td>3332022</td>\n",
       "      <td>2017-03-26</td>\n",
       "      <td>45.04</td>\n",
       "      <td>FR</td>\n",
       "      <td>1985-07-24</td>\n",
       "      <td>M</td>\n",
       "      <td>2016-12-02</td>\n",
       "      <td>M</td>\n",
       "      <td>114</td>\n",
       "    </tr>\n",
       "  </tbody>\n",
       "</table>\n",
       "</div>"
      ],
      "text/plain": [
       "        UserId       Date  Revenue Country        DOB Gender    RegDate  \\\n",
       "16134  3272415 2017-02-21    93.79      FR 1961-04-16      M 2017-02-21   \n",
       "21190  3328421 2017-05-04    70.00      GB 1970-12-17        2017-04-04   \n",
       "20618  3321908 2017-01-27    62.17      DE 1964-11-14        2016-11-25   \n",
       "20051  3319241 2017-01-08    30.00      GB 1988-02-09      F 2016-11-10   \n",
       "19343  3313207 2017-02-24    20.00      GB 1993-03-26        2017-02-23   \n",
       "561    2459297 2017-03-22    17.09      US 1998-02-02      M 2016-09-24   \n",
       "16491  3277930 2017-06-22   100.00      GB 1980-06-11        2017-03-22   \n",
       "16568  3278643 2017-04-13    30.00      GB 1972-12-09      M 2017-01-01   \n",
       "17912  3296860 2017-04-03    58.39   Other 1986-11-18        2017-04-03   \n",
       "21523  3332022 2017-03-26    45.04      FR 1985-07-24      M 2016-12-02   \n",
       "\n",
       "      Gender_corrected  days_since_reg  \n",
       "16134                M               0  \n",
       "21190                M              30  \n",
       "20618                M              63  \n",
       "20051                F              59  \n",
       "19343                M               1  \n",
       "561                  M             179  \n",
       "16491                M              92  \n",
       "16568                M             102  \n",
       "17912                M               0  \n",
       "21523                M             114  "
      ]
     },
     "execution_count": 299,
     "metadata": {},
     "output_type": "execute_result"
    }
   ],
   "source": [
    "df['days_since_reg'] = ((df['Date'] - df['RegDate']) /pd.Timedelta('1D')).astype(int)\n",
    "df.sample(10)"
   ]
  },
  {
   "cell_type": "markdown",
   "id": "9a5b277f-ee90-4600-a8a0-06956c7737f4",
   "metadata": {},
   "source": [
    "#### The mean and median values for Revenue generated per user"
   ]
  },
  {
   "cell_type": "markdown",
   "id": "e2872c3e-98bf-4286-8697-ff09fdd57ece",
   "metadata": {},
   "source": [
    "First sum the total Revenue across all activities for each user then calculate average Revenue across all users."
   ]
  },
  {
   "cell_type": "code",
   "execution_count": 300,
   "id": "fa32387e-8ba4-48e0-b14f-6c076131d1e7",
   "metadata": {},
   "outputs": [
    {
     "name": "stdout",
     "output_type": "stream",
     "text": [
      "Mean value = 512.7\n",
      "Median value = 80.0\n"
     ]
    }
   ],
   "source": [
    "rev_per_user = df.groupby('UserId').Revenue.sum()\n",
    "print( f\"Mean value = {rev_per_user.mean():.1f}\")\n",
    "print( f\"Median value = {rev_per_user.median():.1f}\")"
   ]
  },
  {
   "cell_type": "markdown",
   "id": "d4c78737-1d35-4298-bd73-4afa6100fd37",
   "metadata": {},
   "source": [
    "The mean value is much higher reflecting the influence of the skewed distribution / high values. In the initial EDA of the Activities data above we noted the presence of some large Revenue activities."
   ]
  },
  {
   "cell_type": "markdown",
   "id": "3af1d620-839d-47b7-8b8f-07db5e462a8f",
   "metadata": {},
   "source": [
    "## Question 4"
   ]
  },
  {
   "cell_type": "code",
   "execution_count": 301,
   "id": "35cae647-2a39-464e-bd77-5d5fd59468bf",
   "metadata": {},
   "outputs": [
    {
     "data": {
      "text/plain": [
       "<matplotlib.legend.Legend at 0x2cff96eb0>"
      ]
     },
     "execution_count": 301,
     "metadata": {},
     "output_type": "execute_result"
    },
    {
     "data": {
      "image/png": "[encoded data removed]",
      "text/plain": [
       "<Figure size 1296x576 with 1 Axes>"
      ]
     },
     "metadata": {},
     "output_type": "display_data"
    }
   ],
   "source": [
    "fig,ax = plt.subplots(1,1,figsize=(18,8))\n",
    "rev_per_user.hist(bins=100,ax=ax); ax.set_title(\"Histogram of Total Revenue per User\"); ax.set_xlabel('Revenue'); ax.set_ylabel('Count')\n",
    "ax.axvline(rev_per_user.mean(),c='g',label='mean'); ax.axvline(rev_per_user.median(),c='r',label='median'); ax.legend()\n"
   ]
  },
  {
   "cell_type": "markdown",
   "id": "ccbf63d6-ca5f-4987-a933-e4c4437291e3",
   "metadata": {},
   "source": [
    "This plot on the left uses fixed number of bins to plot the histogram of revenues per user. Due to the presence of some large values of Revenue this means most users fall into the first bin and the plot is not useful for understanding the details of the distribution for most Users."
   ]
  },
  {
   "cell_type": "code",
   "execution_count": 302,
   "id": "d68f561d-2d0c-4ddc-b7ca-6488342dee3d",
   "metadata": {},
   "outputs": [
    {
     "data": {
      "image/png": "[encoded data removed]",
      "text/plain": [
       "<Figure size 1296x576 with 1 Axes>"
      ]
     },
     "metadata": {},
     "output_type": "display_data"
    }
   ],
   "source": [
    "fig,ax = plt.subplots(1,1,figsize=(18,8))\n",
    "rev_per_user.hist(bins=range(0,510,5),ax=ax); ax.set_title(\"Histogram of Total Revenue per user [constrained X-axis]\"); ax.set_xlabel('Revenue'); ax.set_ylabel('Count');\n",
    "ax.axvline(rev_per_user.mean(),c='g',label='mean'); ax.axvline(rev_per_user.median(),c='r',label='median'); ax.legend()\n",
    "plt.tight_layout()"
   ]
  },
  {
   "cell_type": "markdown",
   "id": "f9ef4415-5ad3-4627-be8d-cc88bb47bf24",
   "metadata": {},
   "source": [
    "This plots the same data, but set the bins of the histogram to cover the range from zero to around the mean value to allow more details to be observed for typical users."
   ]
  },
  {
   "cell_type": "markdown",
   "id": "dfe09b97-f5b8-4e0e-b17c-7904cc1f160c",
   "metadata": {},
   "source": [
    "## Question 5"
   ]
  },
  {
   "cell_type": "markdown",
   "id": "fbe604b0-1d70-4c15-8878-93708a54ce7d",
   "metadata": {},
   "source": [
    "What is the average week 1 revenue, ie the revenue generated by the user in their first week (ie within the first 7 days since registration)?\n",
    "\n",
    "So within 7 days = days_since_reg is 0 - 6"
   ]
  },
  {
   "cell_type": "code",
   "execution_count": 303,
   "id": "c1d617a0-2880-4621-96c6-42ecaf6728a6",
   "metadata": {},
   "outputs": [
    {
     "data": {
      "text/plain": [
       "mean      189.485308\n",
       "median     50.000000\n",
       "Name: Revenue, dtype: float64"
      ]
     },
     "metadata": {},
     "output_type": "display_data"
    }
   ],
   "source": [
    "one_week_revenue = df[df.days_since_reg < 7].groupby('UserId').Revenue.sum()\n",
    "display(one_week_revenue.agg([pd.Series.mean, pd.Series.median]))"
   ]
  },
  {
   "cell_type": "markdown",
   "id": "8d63955b-fa68-48de-b08c-be7064406e9c",
   "metadata": {},
   "source": [
    "# Question Block B: Analytics"
   ]
  },
  {
   "cell_type": "markdown",
   "id": "d8751db5-0ab5-476b-88ba-81cb76802de4",
   "metadata": {},
   "source": [
    "### Question 6"
   ]
  },
  {
   "cell_type": "markdown",
   "id": "785c63a8-22c9-409f-bda3-8e0611d43090",
   "metadata": {},
   "source": [
    "In this dataset men generated a higher week 1 revenue than women, on average.  Is this difference in revenue between men and women statistically significant? What is an appropriate statistical test to determine this and what is it’s p-value?"
   ]
  },
  {
   "cell_type": "markdown",
   "id": "7dfe53cb-bfc1-45b0-a68b-5b8d86b53c38",
   "metadata": {},
   "source": [
    "Create 1 week revenue for males and females"
   ]
  },
  {
   "cell_type": "code",
   "execution_count": 304,
   "id": "ae216e3e-c006-496f-b48d-36b680da6c63",
   "metadata": {},
   "outputs": [
    {
     "name": "stdout",
     "output_type": "stream",
     "text": [
      "mean male: 195.8, mean female: 168.7, diff: 27.0\n"
     ]
    }
   ],
   "source": [
    "one_week_revenue_male = df[(df.days_since_reg < 7) & (df.Gender_corrected=='M')].groupby('UserId').Revenue.sum()\n",
    "one_week_revenue_female = df[(df.days_since_reg < 7) & (df.Gender_corrected=='F')].groupby('UserId').Revenue.sum()\n",
    "\n",
    "print(f\"mean male: {one_week_revenue_male.mean():.1f}, mean female: {one_week_revenue_female.mean():.1f}, diff: {one_week_revenue_male.mean() - one_week_revenue_female.mean():.1f}\")\n"
   ]
  },
  {
   "cell_type": "markdown",
   "id": "b8898fbc-b7d4-49e3-b819-7df6afb8b871",
   "metadata": {},
   "source": [
    "Note that the male sample is 3 x larger than female. Also check variances."
   ]
  },
  {
   "cell_type": "code",
   "execution_count": 305,
   "id": "882c0f46-5a60-4507-a0fa-b03e7e9aec26",
   "metadata": {},
   "outputs": [
    {
     "name": "stdout",
     "output_type": "stream",
     "text": [
      "ratio of variances 1.2\n",
      "ratio of sample size 3.3\n"
     ]
    }
   ],
   "source": [
    "import numpy as np\n",
    "V=[np.var(one_week_revenue_male), np.var(one_week_revenue_female)]\n",
    "print(f\"ratio of variances {max(V) / min(V):.1f}\")\n",
    "print(f\"ratio of sample size {len(one_week_revenue_male) / len(one_week_revenue_female):.1f}\")"
   ]
  },
  {
   "cell_type": "markdown",
   "id": "555060d1-2787-4fa7-a34f-ac378934a22e",
   "metadata": {},
   "source": [
    "Even though the underlying distribution of revenue is highly skewed and far from normal, assume because of moderately large sample size a two-way t-test will still be a valid statisical test for comparing the means that characterise these distributions. Given the unbalanced sample sizes try student's t-test and Welch's T-test."
   ]
  },
  {
   "cell_type": "code",
   "execution_count": 306,
   "id": "e9219a63-00a8-4315-8b36-58e3a9a032c1",
   "metadata": {},
   "outputs": [
    {
     "name": "stdout",
     "output_type": "stream",
     "text": [
      "t-test Ttest_indResult(statistic=1.3222698130677804, pvalue=0.18613776888223235)\n",
      "welch Ttest_indResult(statistic=1.3926675886364972, pvalue=0.16386646592630116)\n"
     ]
    }
   ],
   "source": [
    "from scipy.stats import ttest_ind\n",
    "print('t-test',ttest_ind(one_week_revenue_male, one_week_revenue_female,equal_var=True))\n",
    "print('welch',ttest_ind(one_week_revenue_male, one_week_revenue_female,equal_var=False))\n"
   ]
  },
  {
   "cell_type": "markdown",
   "id": "e042123a-fd97-4812-9a03-de625459051c",
   "metadata": {},
   "source": [
    "So the p-value here is greater than > 0.05 so suggests that we cannot say that the difference in the means here is significant."
   ]
  },
  {
   "cell_type": "markdown",
   "id": "bcbcad47-86e6-4c85-b742-dea2e2a0ee50",
   "metadata": {},
   "source": [
    "### Question 7"
   ]
  },
  {
   "cell_type": "markdown",
   "id": "19b91cd6-41db-4643-8692-e0e4003ae873",
   "metadata": {},
   "source": [
    "In which country is this difference biggest?"
   ]
  },
  {
   "cell_type": "code",
   "execution_count": 307,
   "id": "f2e04363-90d0-4c57-94b7-c1f5c67786ed",
   "metadata": {},
   "outputs": [
    {
     "data": {
      "text/html": [
       "<div>\n",
       "<style scoped>\n",
       "    .dataframe tbody tr th:only-of-type {\n",
       "        vertical-align: middle;\n",
       "    }\n",
       "\n",
       "    .dataframe tbody tr th {\n",
       "        vertical-align: top;\n",
       "    }\n",
       "\n",
       "    .dataframe thead th {\n",
       "        text-align: right;\n",
       "    }\n",
       "</style>\n",
       "<table border=\"1\" class=\"dataframe\">\n",
       "  <thead>\n",
       "    <tr style=\"text-align: right;\">\n",
       "      <th></th>\n",
       "      <th>Male</th>\n",
       "      <th>Female</th>\n",
       "      <th>Difference</th>\n",
       "      <th>Difference (% of Male)</th>\n",
       "    </tr>\n",
       "    <tr>\n",
       "      <th>Country</th>\n",
       "      <th></th>\n",
       "      <th></th>\n",
       "      <th></th>\n",
       "      <th></th>\n",
       "    </tr>\n",
       "  </thead>\n",
       "  <tbody>\n",
       "    <tr>\n",
       "      <th>DE</th>\n",
       "      <td>148.495754</td>\n",
       "      <td>115.478137</td>\n",
       "      <td>33.017618</td>\n",
       "      <td>22.234722</td>\n",
       "    </tr>\n",
       "    <tr>\n",
       "      <th>FR</th>\n",
       "      <td>251.761225</td>\n",
       "      <td>221.611875</td>\n",
       "      <td>30.149350</td>\n",
       "      <td>11.975375</td>\n",
       "    </tr>\n",
       "    <tr>\n",
       "      <th>GB</th>\n",
       "      <td>216.733151</td>\n",
       "      <td>213.170272</td>\n",
       "      <td>3.562879</td>\n",
       "      <td>1.643901</td>\n",
       "    </tr>\n",
       "    <tr>\n",
       "      <th>Other</th>\n",
       "      <td>151.148356</td>\n",
       "      <td>86.044233</td>\n",
       "      <td>65.104123</td>\n",
       "      <td>43.072995</td>\n",
       "    </tr>\n",
       "    <tr>\n",
       "      <th>US</th>\n",
       "      <td>196.196544</td>\n",
       "      <td>131.993529</td>\n",
       "      <td>64.203014</td>\n",
       "      <td>32.723825</td>\n",
       "    </tr>\n",
       "  </tbody>\n",
       "</table>\n",
       "</div>"
      ],
      "text/plain": [
       "               Male      Female  Difference  Difference (% of Male)\n",
       "Country                                                            \n",
       "DE       148.495754  115.478137   33.017618               22.234722\n",
       "FR       251.761225  221.611875   30.149350               11.975375\n",
       "GB       216.733151  213.170272    3.562879                1.643901\n",
       "Other    151.148356   86.044233   65.104123               43.072995\n",
       "US       196.196544  131.993529   64.203014               32.723825"
      ]
     },
     "execution_count": 307,
     "metadata": {},
     "output_type": "execute_result"
    }
   ],
   "source": [
    "male_av_by_country = df[(df.days_since_reg < 7) & (df.Gender_corrected=='M')].groupby(['UserId','Country']).Revenue.sum().rename(\"Male\").reset_index().groupby('Country').mean()\n",
    "female_av_by_country = df[(df.days_since_reg < 7) & (df.Gender_corrected=='F')].groupby(['UserId','Country']).Revenue.sum().rename(\"Female\").reset_index().groupby('Country').mean()\n",
    "\n",
    "country_df=pd.concat([male_av_by_country,female_av_by_country],axis=1)\n",
    "country_df['Difference'] = country_df['Male'] - country_df['Female']\n",
    "country_df['Difference (% of Male)'] = 100*(country_df['Male'] - country_df['Female']) / country_df['Male']\n",
    "\n",
    "country_df\n"
   ]
  },
  {
   "cell_type": "markdown",
   "id": "9dd176d3-9230-4db5-8ec2-d667bf1a19b9",
   "metadata": {},
   "source": [
    "The biggest difference in mean 1 week revenues between genders is for 'Other' countries."
   ]
  },
  {
   "cell_type": "code",
   "execution_count": 308,
   "id": "5c5002ea-3509-4d96-83ef-799d6b66a6af",
   "metadata": {},
   "outputs": [
    {
     "data": {
      "text/html": [
       "<div>\n",
       "<style scoped>\n",
       "    .dataframe tbody tr th:only-of-type {\n",
       "        vertical-align: middle;\n",
       "    }\n",
       "\n",
       "    .dataframe tbody tr th {\n",
       "        vertical-align: top;\n",
       "    }\n",
       "\n",
       "    .dataframe thead th {\n",
       "        text-align: right;\n",
       "    }\n",
       "</style>\n",
       "<table border=\"1\" class=\"dataframe\">\n",
       "  <thead>\n",
       "    <tr style=\"text-align: right;\">\n",
       "      <th>Gender_corrected</th>\n",
       "      <th>F</th>\n",
       "      <th>M</th>\n",
       "    </tr>\n",
       "    <tr>\n",
       "      <th>Country</th>\n",
       "      <th></th>\n",
       "      <th></th>\n",
       "    </tr>\n",
       "  </thead>\n",
       "  <tbody>\n",
       "    <tr>\n",
       "      <th>DE</th>\n",
       "      <td>722</td>\n",
       "      <td>2298</td>\n",
       "    </tr>\n",
       "    <tr>\n",
       "      <th>FR</th>\n",
       "      <td>250</td>\n",
       "      <td>1515</td>\n",
       "    </tr>\n",
       "    <tr>\n",
       "      <th>GB</th>\n",
       "      <td>3758</td>\n",
       "      <td>6610</td>\n",
       "    </tr>\n",
       "    <tr>\n",
       "      <th>Other</th>\n",
       "      <td>1001</td>\n",
       "      <td>2091</td>\n",
       "    </tr>\n",
       "    <tr>\n",
       "      <th>US</th>\n",
       "      <td>1187</td>\n",
       "      <td>3210</td>\n",
       "    </tr>\n",
       "  </tbody>\n",
       "</table>\n",
       "</div>"
      ],
      "text/plain": [
       "Gender_corrected     F     M\n",
       "Country                     \n",
       "DE                 722  2298\n",
       "FR                 250  1515\n",
       "GB                3758  6610\n",
       "Other             1001  2091\n",
       "US                1187  3210"
      ]
     },
     "execution_count": 308,
     "metadata": {},
     "output_type": "execute_result"
    }
   ],
   "source": [
    "df.groupby(['Country','Gender_corrected']).size().reset_index().pivot(index='Country',columns='Gender_corrected',values=0)"
   ]
  },
  {
   "cell_type": "markdown",
   "id": "ce4f0f19-481e-48aa-88bb-c8bef6ceb835",
   "metadata": {},
   "source": [
    "Count of users per country by gender."
   ]
  },
  {
   "cell_type": "markdown",
   "id": "22fbf341-f313-433f-8b81-803c8e33c479",
   "metadata": {},
   "source": [
    "### Question 8"
   ]
  },
  {
   "cell_type": "markdown",
   "id": "b88b9b87-1e95-4b87-aee6-bf25cd7a8493",
   "metadata": {},
   "source": [
    "Please visualise the relationship between country, gender and week 1 revenue with an appropriate chart.\n",
    "\n",
    "\n",
    "Due to low number of country categories in this case, try a bar chart."
   ]
  },
  {
   "cell_type": "code",
   "execution_count": 309,
   "id": "00a1c6b0-2e01-47ac-a5b8-38fa104390c8",
   "metadata": {},
   "outputs": [
    {
     "data": {
      "text/plain": [
       "Text(0.5, 1.0, 'Comparing mean 1 week revenue for Males and Females by Country')"
      ]
     },
     "execution_count": 309,
     "metadata": {},
     "output_type": "execute_result"
    },
    {
     "data": {
      "image/png": "[encoded data removed]",
      "text/plain": [
       "<Figure size 864x576 with 1 Axes>"
      ]
     },
     "metadata": {},
     "output_type": "display_data"
    }
   ],
   "source": [
    "M=df[(df.days_since_reg < 7)].groupby(['UserId','Gender_corrected','Country']).Revenue.sum().rename('Week 1 Revenue').reset_index()\n",
    "M.groupby(['Gender_corrected','Country']).mean().reset_index()#.pivot(index='Country',columns='Gender_corrected',values='Week 1 Revenue')\n",
    "\n",
    "import seaborn as sns\n",
    "sns.set_context('talk')\n",
    "fig,ax=plt.subplots(1,1,figsize=(12,8))\n",
    "sns.barplot(data=M,x='Country',y='Week 1 Revenue',hue='Gender_corrected',ax=ax)\n",
    "ax.set_title('Comparing mean 1 week revenue for Males and Females by Country')"
   ]
  },
  {
   "cell_type": "markdown",
   "id": "21b9b58a-4e79-4980-8fc1-7234ebda1811",
   "metadata": {},
   "source": [
    "### Question 9"
   ]
  },
  {
   "cell_type": "markdown",
   "id": "10a1fe2e-ee32-4c33-8e2c-f2a4c4b61421",
   "metadata": {},
   "source": [
    "Build a linear regression model to predict the week 1 revenue of a user based on the following variables: Gender, Age, Country and day 1 revenue (ie the revenue generated by the user on their registration date). Which of these variables have a statistically significant predictive power according to this model?\n",
    "\n",
    "Create age in years column"
   ]
  },
  {
   "cell_type": "code",
   "execution_count": 310,
   "id": "281a28d6-fa38-4520-86ca-e52e2dead3b8",
   "metadata": {},
   "outputs": [],
   "source": [
    "from datetime import datetime\n",
    "users_df['Age_years'] = ((datetime.today() - users_df['DOB']) / pd.Timedelta(365.25,'D')).round().astype(int)\n",
    "users_df['Age_years_N']=users_df['Age_years']/users_df['Age_years'].mean()\n"
   ]
  },
  {
   "cell_type": "markdown",
   "id": "a9b96d28-67f2-4f56-9b1a-156b2f41fa4d",
   "metadata": {},
   "source": [
    "Use sklearn Linear Regression. One hot code the catgeorical/non-numerical columns of Country and Gender."
   ]
  },
  {
   "cell_type": "code",
   "execution_count": 311,
   "id": "0ab015fc-283b-4f0b-bb02-364eca55331b",
   "metadata": {},
   "outputs": [],
   "source": [
    "from sklearn.model_selection import train_test_split\n",
    "from sklearn.compose import make_column_transformer\n",
    "from sklearn.preprocessing import OneHotEncoder\n",
    "from sklearn.linear_model import LinearRegression\n",
    "\n",
    "categorical_columns = [\"Country\", \"Gender_corrected\"]\n",
    "numerical_columns = [\"Age_years\", \"day_1_rev\", \"wk_1_rev\"]\n",
    "\n",
    "preprocessor = make_column_transformer(\n",
    "    (OneHotEncoder(), categorical_columns),\n",
    "    remainder=\"passthrough\",\n",
    "    verbose_feature_names_out=False,  # avoid to prepend the preprocessor names\n",
    ")\n",
    "model = make_pipeline(\n",
    "    preprocessor,\n",
    "    LinearRegression()\n",
    ")\n"
   ]
  },
  {
   "cell_type": "markdown",
   "id": "610122f1-f1da-4ba2-b4f2-6a2b26a9c627",
   "metadata": {},
   "source": [
    "Prepare the data set by calculating the day 1 revenue and first week revenue per user. Split into a training and test set."
   ]
  },
  {
   "cell_type": "code",
   "execution_count": 320,
   "id": "c4654db6-afc0-415f-9425-03fefce6282e",
   "metadata": {},
   "outputs": [
    {
     "data": {
      "text/html": [
       "<style>#sk-container-id-20 {color: black;background-color: white;}#sk-container-id-20 pre{padding: 0;}#sk-container-id-20 div.sk-toggleable {background-color: white;}#sk-container-id-20 label.sk-toggleable__label {cursor: pointer;display: block;width: 100%;margin-bottom: 0;padding: 0.3em;box-sizing: border-box;text-align: center;}#sk-container-id-20 label.sk-toggleable__label-arrow:before {content: \"▸\";float: left;margin-right: 0.25em;color: #696969;}#sk-container-id-20 label.sk-toggleable__label-arrow:hover:before {color: black;}#sk-container-id-20 div.sk-estimator:hover label.sk-toggleable__label-arrow:before {color: black;}#sk-container-id-20 div.sk-toggleable__content {max-height: 0;max-width: 0;overflow: hidden;text-align: left;background-color: #f0f8ff;}#sk-container-id-20 div.sk-toggleable__content pre {margin: 0.2em;color: black;border-radius: 0.25em;background-color: #f0f8ff;}#sk-container-id-20 input.sk-toggleable__control:checked~div.sk-toggleable__content {max-height: 200px;max-width: 100%;overflow: auto;}#sk-container-id-20 input.sk-toggleable__control:checked~label.sk-toggleable__label-arrow:before {content: \"▾\";}#sk-container-id-20 div.sk-estimator input.sk-toggleable__control:checked~label.sk-toggleable__label {background-color: #d4ebff;}#sk-container-id-20 div.sk-label input.sk-toggleable__control:checked~label.sk-toggleable__label {background-color: #d4ebff;}#sk-container-id-20 input.sk-hidden--visually {border: 0;clip: rect(1px 1px 1px 1px);clip: rect(1px, 1px, 1px, 1px);height: 1px;margin: -1px;overflow: hidden;padding: 0;position: absolute;width: 1px;}#sk-container-id-20 div.sk-estimator {font-family: monospace;background-color: #f0f8ff;border: 1px dotted black;border-radius: 0.25em;box-sizing: border-box;margin-bottom: 0.5em;}#sk-container-id-20 div.sk-estimator:hover {background-color: #d4ebff;}#sk-container-id-20 div.sk-parallel-item::after {content: \"\";width: 100%;border-bottom: 1px solid gray;flex-grow: 1;}#sk-container-id-20 div.sk-label:hover label.sk-toggleable__label {background-color: #d4ebff;}#sk-container-id-20 div.sk-serial::before {content: \"\";position: absolute;border-left: 1px solid gray;box-sizing: border-box;top: 0;bottom: 0;left: 50%;z-index: 0;}#sk-container-id-20 div.sk-serial {display: flex;flex-direction: column;align-items: center;background-color: white;padding-right: 0.2em;padding-left: 0.2em;position: relative;}#sk-container-id-20 div.sk-item {position: relative;z-index: 1;}#sk-container-id-20 div.sk-parallel {display: flex;align-items: stretch;justify-content: center;background-color: white;position: relative;}#sk-container-id-20 div.sk-item::before, #sk-container-id-20 div.sk-parallel-item::before {content: \"\";position: absolute;border-left: 1px solid gray;box-sizing: border-box;top: 0;bottom: 0;left: 50%;z-index: -1;}#sk-container-id-20 div.sk-parallel-item {display: flex;flex-direction: column;z-index: 1;position: relative;background-color: white;}#sk-container-id-20 div.sk-parallel-item:first-child::after {align-self: flex-end;width: 50%;}#sk-container-id-20 div.sk-parallel-item:last-child::after {align-self: flex-start;width: 50%;}#sk-container-id-20 div.sk-parallel-item:only-child::after {width: 0;}#sk-container-id-20 div.sk-dashed-wrapped {border: 1px dashed gray;margin: 0 0.4em 0.5em 0.4em;box-sizing: border-box;padding-bottom: 0.4em;background-color: white;}#sk-container-id-20 div.sk-label label {font-family: monospace;font-weight: bold;display: inline-block;line-height: 1.2em;}#sk-container-id-20 div.sk-label-container {text-align: center;}#sk-container-id-20 div.sk-container {/* jupyter's `normalize.less` sets `[hidden] { display: none; }` but bootstrap.min.css set `[hidden] { display: none !important; }` so we also need the `!important` here to be able to override the default hidden behavior on the sphinx rendered scikit-learn.org. See: https://github.com/scikit-learn/scikit-learn/issues/21755 */display: inline-block !important;position: relative;}#sk-container-id-20 div.sk-text-repr-fallback {display: none;}</style><div id=\"sk-container-id-20\" class=\"sk-top-container\"><div class=\"sk-text-repr-fallback\"><pre>Pipeline(steps=[(&#x27;columntransformer&#x27;,\n",
       "                 ColumnTransformer(remainder=&#x27;passthrough&#x27;,\n",
       "                                   transformers=[(&#x27;onehotencoder&#x27;,\n",
       "                                                  OneHotEncoder(),\n",
       "                                                  [&#x27;Country&#x27;,\n",
       "                                                   &#x27;Gender_corrected&#x27;])],\n",
       "                                   verbose_feature_names_out=False)),\n",
       "                (&#x27;linearregression&#x27;, LinearRegression())])</pre><b>In a Jupyter environment, please rerun this cell to show the HTML representation or trust the notebook. <br />On GitHub, the HTML representation is unable to render, please try loading this page with nbviewer.org.</b></div><div class=\"sk-container\" hidden><div class=\"sk-item sk-dashed-wrapped\"><div class=\"sk-label-container\"><div class=\"sk-label sk-toggleable\"><input class=\"sk-toggleable__control sk-hidden--visually\" id=\"sk-estimator-id-108\" type=\"checkbox\" ><label for=\"sk-estimator-id-108\" class=\"sk-toggleable__label sk-toggleable__label-arrow\">Pipeline</label><div class=\"sk-toggleable__content\"><pre>Pipeline(steps=[(&#x27;columntransformer&#x27;,\n",
       "                 ColumnTransformer(remainder=&#x27;passthrough&#x27;,\n",
       "                                   transformers=[(&#x27;onehotencoder&#x27;,\n",
       "                                                  OneHotEncoder(),\n",
       "                                                  [&#x27;Country&#x27;,\n",
       "                                                   &#x27;Gender_corrected&#x27;])],\n",
       "                                   verbose_feature_names_out=False)),\n",
       "                (&#x27;linearregression&#x27;, LinearRegression())])</pre></div></div></div><div class=\"sk-serial\"><div class=\"sk-item sk-dashed-wrapped\"><div class=\"sk-label-container\"><div class=\"sk-label sk-toggleable\"><input class=\"sk-toggleable__control sk-hidden--visually\" id=\"sk-estimator-id-109\" type=\"checkbox\" ><label for=\"sk-estimator-id-109\" class=\"sk-toggleable__label sk-toggleable__label-arrow\">columntransformer: ColumnTransformer</label><div class=\"sk-toggleable__content\"><pre>ColumnTransformer(remainder=&#x27;passthrough&#x27;,\n",
       "                  transformers=[(&#x27;onehotencoder&#x27;, OneHotEncoder(),\n",
       "                                 [&#x27;Country&#x27;, &#x27;Gender_corrected&#x27;])],\n",
       "                  verbose_feature_names_out=False)</pre></div></div></div><div class=\"sk-parallel\"><div class=\"sk-parallel-item\"><div class=\"sk-item\"><div class=\"sk-label-container\"><div class=\"sk-label sk-toggleable\"><input class=\"sk-toggleable__control sk-hidden--visually\" id=\"sk-estimator-id-110\" type=\"checkbox\" ><label for=\"sk-estimator-id-110\" class=\"sk-toggleable__label sk-toggleable__label-arrow\">onehotencoder</label><div class=\"sk-toggleable__content\"><pre>[&#x27;Country&#x27;, &#x27;Gender_corrected&#x27;]</pre></div></div></div><div class=\"sk-serial\"><div class=\"sk-item\"><div class=\"sk-estimator sk-toggleable\"><input class=\"sk-toggleable__control sk-hidden--visually\" id=\"sk-estimator-id-111\" type=\"checkbox\" ><label for=\"sk-estimator-id-111\" class=\"sk-toggleable__label sk-toggleable__label-arrow\">OneHotEncoder</label><div class=\"sk-toggleable__content\"><pre>OneHotEncoder()</pre></div></div></div></div></div></div><div class=\"sk-parallel-item\"><div class=\"sk-item\"><div class=\"sk-label-container\"><div class=\"sk-label sk-toggleable\"><input class=\"sk-toggleable__control sk-hidden--visually\" id=\"sk-estimator-id-112\" type=\"checkbox\" ><label for=\"sk-estimator-id-112\" class=\"sk-toggleable__label sk-toggleable__label-arrow\">remainder</label><div class=\"sk-toggleable__content\"><pre>[&#x27;Age_years&#x27;, &#x27;day_1_rev&#x27;]</pre></div></div></div><div class=\"sk-serial\"><div class=\"sk-item\"><div class=\"sk-estimator sk-toggleable\"><input class=\"sk-toggleable__control sk-hidden--visually\" id=\"sk-estimator-id-113\" type=\"checkbox\" ><label for=\"sk-estimator-id-113\" class=\"sk-toggleable__label sk-toggleable__label-arrow\">passthrough</label><div class=\"sk-toggleable__content\"><pre>passthrough</pre></div></div></div></div></div></div></div></div><div class=\"sk-item\"><div class=\"sk-estimator sk-toggleable\"><input class=\"sk-toggleable__control sk-hidden--visually\" id=\"sk-estimator-id-114\" type=\"checkbox\" ><label for=\"sk-estimator-id-114\" class=\"sk-toggleable__label sk-toggleable__label-arrow\">LinearRegression</label><div class=\"sk-toggleable__content\"><pre>LinearRegression()</pre></div></div></div></div></div></div></div>"
      ],
      "text/plain": [
       "Pipeline(steps=[('columntransformer',\n",
       "                 ColumnTransformer(remainder='passthrough',\n",
       "                                   transformers=[('onehotencoder',\n",
       "                                                  OneHotEncoder(),\n",
       "                                                  ['Country',\n",
       "                                                   'Gender_corrected'])],\n",
       "                                   verbose_feature_names_out=False)),\n",
       "                ('linearregression', LinearRegression())])"
      ]
     },
     "execution_count": 320,
     "metadata": {},
     "output_type": "execute_result"
    }
   ],
   "source": [
    "def prep_data_set(d, users, exclude_rev_thresh=None):\n",
    "    if exclude_rev_thresh is not None:\n",
    "        d=d[d.Revenue < exclude_rev_thresh]\n",
    "    \n",
    "    rev = df[(df.days_since_reg < 1) ].groupby('UserId').Revenue.sum().rename('day_1_rev')\n",
    "    rev2 = df[(df.days_since_reg < 7)  ].groupby('UserId').Revenue.sum().rename('wk_1_rev')\n",
    "    R = pd.concat([rev,rev2],axis=1).fillna(0).reset_index()\n",
    "    R = R.merge(users_df[['UserId','Age_years','Country','Gender_corrected']])\n",
    "    return R\n",
    "\n",
    "R=prep_data_set(df, users_df, exclude_rev_thresh=500) \n",
    "X = R[['Age_years','Country','Gender_corrected','day_1_rev']]\n",
    "Y = R['wk_1_rev']\n",
    "\n",
    "X_train, X_test, y_train, y_test = train_test_split(X, Y, test_size=0.9)\n",
    "X_train, y_train\n",
    "model.fit(X_train,y_train)\n"
   ]
  },
  {
   "cell_type": "markdown",
   "id": "1dee8807-32c8-40b1-b75b-2ed043b7fa21",
   "metadata": {},
   "source": [
    "Use this technique to understand relative coefficient importance https://scikit-learn.org/stable/auto_examples/inspection/plot_linear_model_coefficient_interpretation.html "
   ]
  },
  {
   "cell_type": "code",
   "execution_count": 322,
   "id": "58932444-b62b-454f-8319-5025baf307fe",
   "metadata": {},
   "outputs": [
    {
     "data": {
      "text/html": [
       "<div>\n",
       "<style scoped>\n",
       "    .dataframe tbody tr th:only-of-type {\n",
       "        vertical-align: middle;\n",
       "    }\n",
       "\n",
       "    .dataframe tbody tr th {\n",
       "        vertical-align: top;\n",
       "    }\n",
       "\n",
       "    .dataframe thead th {\n",
       "        text-align: right;\n",
       "    }\n",
       "</style>\n",
       "<table border=\"1\" class=\"dataframe\">\n",
       "  <thead>\n",
       "    <tr style=\"text-align: right;\">\n",
       "      <th></th>\n",
       "      <th>Coefficient importance</th>\n",
       "    </tr>\n",
       "  </thead>\n",
       "  <tbody>\n",
       "    <tr>\n",
       "      <th>Gender_corrected_M</th>\n",
       "      <td>-21.418860</td>\n",
       "    </tr>\n",
       "    <tr>\n",
       "      <th>Country_DE</th>\n",
       "      <td>-13.817597</td>\n",
       "    </tr>\n",
       "    <tr>\n",
       "      <th>Country_US</th>\n",
       "      <td>-5.727753</td>\n",
       "    </tr>\n",
       "    <tr>\n",
       "      <th>Country_FR</th>\n",
       "      <td>-4.900734</td>\n",
       "    </tr>\n",
       "    <tr>\n",
       "      <th>Age_years</th>\n",
       "      <td>5.436278</td>\n",
       "    </tr>\n",
       "    <tr>\n",
       "      <th>Country_Other</th>\n",
       "      <td>9.900708</td>\n",
       "    </tr>\n",
       "    <tr>\n",
       "      <th>Country_GB</th>\n",
       "      <td>21.342658</td>\n",
       "    </tr>\n",
       "    <tr>\n",
       "      <th>Gender_corrected_F</th>\n",
       "      <td>21.418860</td>\n",
       "    </tr>\n",
       "    <tr>\n",
       "      <th>day_1_rev</th>\n",
       "      <td>401.879177</td>\n",
       "    </tr>\n",
       "  </tbody>\n",
       "</table>\n",
       "</div>"
      ],
      "text/plain": [
       "                    Coefficient importance\n",
       "Gender_corrected_M              -21.418860\n",
       "Country_DE                      -13.817597\n",
       "Country_US                       -5.727753\n",
       "Country_FR                       -4.900734\n",
       "Age_years                         5.436278\n",
       "Country_Other                     9.900708\n",
       "Country_GB                       21.342658\n",
       "Gender_corrected_F               21.418860\n",
       "day_1_rev                       401.879177"
      ]
     },
     "metadata": {},
     "output_type": "display_data"
    },
    {
     "data": {
      "image/png": "[encoded data removed]",
      "text/plain": [
       "<Figure size 648x504 with 1 Axes>"
      ]
     },
     "metadata": {},
     "output_type": "display_data"
    }
   ],
   "source": [
    "feature_names = model[:-1].get_feature_names_out()\n",
    "X_train_preprocessed = pd.DataFrame( model[:-1].transform(X_train), columns=feature_names)\n",
    "\n",
    "coefs = pd.DataFrame(\n",
    "    model[-1].coef_ * X_train_preprocessed.std(axis=0),\n",
    "    columns=[\"Coefficient importance\"],\n",
    "    index=feature_names,\n",
    ")\n",
    "display(coefs.sort_values(by='Coefficient importance'))\n",
    "coefs.plot(kind=\"barh\", figsize=(9, 7))\n",
    "plt.xlabel(\"Coefficient values corrected by the feature's std. dev.\")\n",
    "plt.axvline(x=0, color=\".5\")\n",
    "plt.subplots_adjust(left=0.3)"
   ]
  },
  {
   "cell_type": "markdown",
   "id": "3bcb2fca-735a-4aad-9b09-9034f3c714e3",
   "metadata": {},
   "source": [
    "From this it looks like Day 1 revenue is the strongest predictor of week 1 revenue. Dig into this a little further."
   ]
  },
  {
   "cell_type": "markdown",
   "id": "efffde57-f3f8-4a74-b1fa-ace8ceb30157",
   "metadata": {},
   "source": [
    "**Alternative approach use statsmodels summary output**"
   ]
  },
  {
   "cell_type": "code",
   "execution_count": 314,
   "id": "2bbba660-4840-48fd-ad7d-b7a6d0ea219e",
   "metadata": {},
   "outputs": [
    {
     "data": {
      "text/html": [
       "<table class=\"simpletable\">\n",
       "<caption>OLS Regression Results</caption>\n",
       "<tr>\n",
       "  <th>Dep. Variable:</th>        <td>wk_1_rev</td>     <th>  R-squared:         </th> <td>   0.558</td> \n",
       "</tr>\n",
       "<tr>\n",
       "  <th>Model:</th>                   <td>OLS</td>       <th>  Adj. R-squared:    </th> <td>   0.557</td> \n",
       "</tr>\n",
       "<tr>\n",
       "  <th>Method:</th>             <td>Least Squares</td>  <th>  F-statistic:       </th> <td>   916.5</td> \n",
       "</tr>\n",
       "<tr>\n",
       "  <th>Date:</th>             <td>Sun, 29 May 2022</td> <th>  Prob (F-statistic):</th>  <td>  0.00</td>  \n",
       "</tr>\n",
       "<tr>\n",
       "  <th>Time:</th>                 <td>16:15:37</td>     <th>  Log-Likelihood:    </th> <td> -37824.</td> \n",
       "</tr>\n",
       "<tr>\n",
       "  <th>No. Observations:</th>      <td>  5089</td>      <th>  AIC:               </th> <td>7.566e+04</td>\n",
       "</tr>\n",
       "<tr>\n",
       "  <th>Df Residuals:</th>          <td>  5081</td>      <th>  BIC:               </th> <td>7.572e+04</td>\n",
       "</tr>\n",
       "<tr>\n",
       "  <th>Df Model:</th>              <td>     7</td>      <th>                     </th>     <td> </td>    \n",
       "</tr>\n",
       "<tr>\n",
       "  <th>Covariance Type:</th>      <td>nonrobust</td>    <th>                     </th>     <td> </td>    \n",
       "</tr>\n",
       "</table>\n",
       "<table class=\"simpletable\">\n",
       "<tr>\n",
       "            <td></td>               <th>coef</th>     <th>std err</th>      <th>t</th>      <th>P>|t|</th>  <th>[0.025</th>    <th>0.975]</th>  \n",
       "</tr>\n",
       "<tr>\n",
       "  <th>Intercept</th>             <td>  -13.5065</td> <td>   30.014</td> <td>   -0.450</td> <td> 0.653</td> <td>  -72.346</td> <td>   45.333</td>\n",
       "</tr>\n",
       "<tr>\n",
       "  <th>Gender_corrected[T.M]</th> <td>    1.4008</td> <td>   13.885</td> <td>    0.101</td> <td> 0.920</td> <td>  -25.820</td> <td>   28.622</td>\n",
       "</tr>\n",
       "<tr>\n",
       "  <th>Country[T.FR]</th>         <td>   36.6395</td> <td>   24.593</td> <td>    1.490</td> <td> 0.136</td> <td>  -11.573</td> <td>   84.852</td>\n",
       "</tr>\n",
       "<tr>\n",
       "  <th>Country[T.GB]</th>         <td>   23.1933</td> <td>   16.630</td> <td>    1.395</td> <td> 0.163</td> <td>   -9.409</td> <td>   55.796</td>\n",
       "</tr>\n",
       "<tr>\n",
       "  <th>Country[T.Other]</th>      <td>    8.0122</td> <td>   21.276</td> <td>    0.377</td> <td> 0.706</td> <td>  -33.697</td> <td>   49.721</td>\n",
       "</tr>\n",
       "<tr>\n",
       "  <th>Country[T.US]</th>         <td>    8.4986</td> <td>   19.580</td> <td>    0.434</td> <td> 0.664</td> <td>  -29.886</td> <td>   46.883</td>\n",
       "</tr>\n",
       "<tr>\n",
       "  <th>day_1_rev</th>             <td>    1.3405</td> <td>    0.017</td> <td>   79.720</td> <td> 0.000</td> <td>    1.308</td> <td>    1.373</td>\n",
       "</tr>\n",
       "<tr>\n",
       "  <th>Age_years</th>             <td>    0.9709</td> <td>    0.515</td> <td>    1.886</td> <td> 0.059</td> <td>   -0.038</td> <td>    1.980</td>\n",
       "</tr>\n",
       "</table>\n",
       "<table class=\"simpletable\">\n",
       "<tr>\n",
       "  <th>Omnibus:</th>       <td>9485.131</td> <th>  Durbin-Watson:     </th>   <td>   1.953</td>  \n",
       "</tr>\n",
       "<tr>\n",
       "  <th>Prob(Omnibus):</th>  <td> 0.000</td>  <th>  Jarque-Bera (JB):  </th> <td>22204663.826</td>\n",
       "</tr>\n",
       "<tr>\n",
       "  <th>Skew:</th>           <td>13.805</td>  <th>  Prob(JB):          </th>   <td>    0.00</td>  \n",
       "</tr>\n",
       "<tr>\n",
       "  <th>Kurtosis:</th>       <td>325.422</td> <th>  Cond. No.          </th>   <td>2.37e+03</td>  \n",
       "</tr>\n",
       "</table><br/><br/>Notes:<br/>[1] Standard Errors assume that the covariance matrix of the errors is correctly specified.<br/>[2] The condition number is large, 2.37e+03. This might indicate that there are<br/>strong multicollinearity or other numerical problems."
      ],
      "text/plain": [
       "<class 'statsmodels.iolib.summary.Summary'>\n",
       "\"\"\"\n",
       "                            OLS Regression Results                            \n",
       "==============================================================================\n",
       "Dep. Variable:               wk_1_rev   R-squared:                       0.558\n",
       "Model:                            OLS   Adj. R-squared:                  0.557\n",
       "Method:                 Least Squares   F-statistic:                     916.5\n",
       "Date:                Sun, 29 May 2022   Prob (F-statistic):               0.00\n",
       "Time:                        16:15:37   Log-Likelihood:                -37824.\n",
       "No. Observations:                5089   AIC:                         7.566e+04\n",
       "Df Residuals:                    5081   BIC:                         7.572e+04\n",
       "Df Model:                           7                                         \n",
       "Covariance Type:            nonrobust                                         \n",
       "=========================================================================================\n",
       "                            coef    std err          t      P>|t|      [0.025      0.975]\n",
       "-----------------------------------------------------------------------------------------\n",
       "Intercept               -13.5065     30.014     -0.450      0.653     -72.346      45.333\n",
       "Gender_corrected[T.M]     1.4008     13.885      0.101      0.920     -25.820      28.622\n",
       "Country[T.FR]            36.6395     24.593      1.490      0.136     -11.573      84.852\n",
       "Country[T.GB]            23.1933     16.630      1.395      0.163      -9.409      55.796\n",
       "Country[T.Other]          8.0122     21.276      0.377      0.706     -33.697      49.721\n",
       "Country[T.US]             8.4986     19.580      0.434      0.664     -29.886      46.883\n",
       "day_1_rev                 1.3405      0.017     79.720      0.000       1.308       1.373\n",
       "Age_years                 0.9709      0.515      1.886      0.059      -0.038       1.980\n",
       "==============================================================================\n",
       "Omnibus:                     9485.131   Durbin-Watson:                   1.953\n",
       "Prob(Omnibus):                  0.000   Jarque-Bera (JB):         22204663.826\n",
       "Skew:                          13.805   Prob(JB):                         0.00\n",
       "Kurtosis:                     325.422   Cond. No.                     2.37e+03\n",
       "==============================================================================\n",
       "\n",
       "Notes:\n",
       "[1] Standard Errors assume that the covariance matrix of the errors is correctly specified.\n",
       "[2] The condition number is large, 2.37e+03. This might indicate that there are\n",
       "strong multicollinearity or other numerical problems.\n",
       "\"\"\""
      ]
     },
     "execution_count": 314,
     "metadata": {},
     "output_type": "execute_result"
    }
   ],
   "source": [
    "import statsmodels.api as sm\n",
    "\n",
    "lmdata = pd.concat([X,Y],axis=1)\n",
    "\n",
    "lmdata\n",
    "\n",
    "model_lin = sm.OLS.from_formula(\"wk_1_rev ~ day_1_rev + Age_years + Gender_corrected + Country\", data=lmdata)\n",
    "result_lin = model_lin.fit()\n",
    "result_lin.summary()"
   ]
  },
  {
   "cell_type": "markdown",
   "id": "11824049-858c-437e-bf42-937d13a2ebb0",
   "metadata": {},
   "source": [
    "From this summary table:\n",
    "\n",
    " - \"Day 1 Revenue\" looks to be statistically significant predictor of week 1 revenue given P value < 0.05.\n",
    " - \"Age_years\" is close to passing that threshold.\n",
    " "
   ]
  },
  {
   "cell_type": "code",
   "execution_count": 323,
   "id": "5ceda122-0a53-48e3-9ea1-ad62ca5f8cd7",
   "metadata": {},
   "outputs": [
    {
     "data": {
      "text/plain": [
       "<AxesSubplot:xlabel='wk_1_rev'>"
      ]
     },
     "execution_count": 323,
     "metadata": {},
     "output_type": "execute_result"
    },
    {
     "data": {
      "image/png": "[encoded data removed]",
      "text/plain": [
       "<Figure size 432x288 with 1 Axes>"
      ]
     },
     "metadata": {},
     "output_type": "display_data"
    }
   ],
   "source": [
    "predictions = model.predict(X_test)\n",
    "sns.regplot(x=y_test, y=predictions, ci=None) "
   ]
  },
  {
   "cell_type": "markdown",
   "id": "c8f3ae11-da2f-4aa7-884b-b3058a3ace8f",
   "metadata": {},
   "source": [
    "### Question 10"
   ]
  },
  {
   "cell_type": "markdown",
   "id": "5b742f5c-c2a3-4603-a417-d47cd4e93cdf",
   "metadata": {},
   "source": [
    "What revenues do you expect women from France, Germany and the UK to generate, assuming they are all aged 40 and all generated £20 on their registration day?"
   ]
  },
  {
   "cell_type": "markdown",
   "id": "c2f832be-20a9-42ab-b5b5-02cb2b9c1865",
   "metadata": {},
   "source": [
    "Take only Day 1 revenue and Age as signifcant predictions. Use model coefficients for these variables and simply calculate an estimate.\n",
    "\n",
    "$$ pred = (1.3405 * day_1_revenue) + (0.972 * Age_years) - 13.5811 $$\n"
   ]
  },
  {
   "cell_type": "code",
   "execution_count": 194,
   "id": "f3979f6a-126e-4520-9379-84eedccd4e90",
   "metadata": {},
   "outputs": [
    {
     "data": {
      "text/plain": [
       "52.1089"
      ]
     },
     "execution_count": 194,
     "metadata": {},
     "output_type": "execute_result"
    }
   ],
   "source": [
    "pred =  (1.3405 * 20) + (0.972 * 40) - 13.5811\n",
    "pred"
   ]
  },
  {
   "cell_type": "markdown",
   "id": "126e513c-be78-4cf1-9b86-92d4b9402a55",
   "metadata": {},
   "source": [
    "To sanity check this then filter the source data to observations that roughly fit the above criteria"
   ]
  },
  {
   "cell_type": "code",
   "execution_count": 225,
   "id": "da518bbd-bff0-4d9a-8c3e-141ef3f6db67",
   "metadata": {},
   "outputs": [
    {
     "name": "stdout",
     "output_type": "stream",
     "text": [
      "\n",
      "    n_samples: 67\n",
      "    mean wk1: 51.0\n",
      "    median wk1: 20.0\n",
      "    min wk1: 20.0\n",
      "    max wk1: 673.0\n",
      "    std wk1: 92.27084637581412\n",
      "    \n"
     ]
    }
   ],
   "source": [
    "S=R[(R.day_1_rev==20) & (R.Age_years>=39)& (R.Age_years<=41)].wk_1_rev\n",
    "print(f\"\"\"\n",
    "    n_samples: {len(S)}\n",
    "    mean wk1: {S.mean()}\n",
    "    median wk1: {S.median()}\n",
    "    min wk1: {S.min()}\n",
    "    max wk1: {S.max()}\n",
    "    std wk1: {S.std()}\n",
    "    \"\"\")\n"
   ]
  },
  {
   "cell_type": "markdown",
   "id": "9030f930-8201-4146-aa99-8f93b99f294d",
   "metadata": {},
   "source": [
    "The predicted value seems consisent with similar observations"
   ]
  },
  {
   "cell_type": "markdown",
   "id": "cbc299f1-c13c-46a0-8a97-38a0eb83a2ac",
   "metadata": {},
   "source": [
    "Concerned about the skewed data of revenue and linear model. Given more time I would likely investigate the effect of transforming the revenue data, maybe logarithmic scaling."
   ]
  },
  {
   "cell_type": "code",
   "execution_count": null,
   "id": "5b373aa3-95df-4d56-a06b-9048d77a98a4",
   "metadata": {},
   "outputs": [],
   "source": []
  }
 ],
 "metadata": {
  "kernelspec": {
   "display_name": "Python 3 (ipykernel)",
   "language": "python",
   "name": "python3"
  },
  "language_info": {
   "codemirror_mode": {
    "name": "ipython",
    "version": 3
   },
   "file_extension": ".py",
   "mimetype": "text/x-python",
   "name": "python",
   "nbconvert_exporter": "python",
   "pygments_lexer": "ipython3",
   "version": "3.9.1"
  }
 },
 "nbformat": 4,
 "nbformat_minor": 5
}
